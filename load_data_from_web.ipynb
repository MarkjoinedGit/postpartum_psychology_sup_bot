{
 "cells": [
  {
   "cell_type": "markdown",
   "metadata": {},
   "source": [
    "# Import libraries\n"
   ]
  },
  {
   "cell_type": "code",
   "execution_count": 33,
   "metadata": {},
   "outputs": [],
   "source": [
    "import requests\n",
    "from bs4 import BeautifulSoup\n",
    "from readability import Document\n",
    "from fpdf import FPDF\n",
    "import unidecode\n",
    "import os\n",
    "import re"
   ]
  },
  {
   "cell_type": "markdown",
   "metadata": {},
   "source": [
    "## Get content from web"
   ]
  },
  {
   "cell_type": "code",
   "execution_count": 8,
   "metadata": {},
   "outputs": [],
   "source": [
    "def read_content_from_web(url):\n",
    "    response = requests.get(url)\n",
    "\n",
    "    if response.status_code == 200:\n",
    "        doc = Document(response.content)\n",
    "        html_content = doc.summary()\n",
    "        title = doc.title()\n",
    "        soup = BeautifulSoup(html_content, \"html.parser\")\n",
    "        text_content = soup.get_text()\n",
    "        \n",
    "        return text_content, title\n",
    "    \n",
    "    return None, None"
   ]
  },
  {
   "cell_type": "markdown",
   "metadata": {},
   "source": [
    "## Convert to pdf file"
   ]
  },
  {
   "cell_type": "code",
   "execution_count": 38,
   "metadata": {},
   "outputs": [],
   "source": [
    "def normalize_filename(filename):\n",
    "    filename = unidecode.unidecode(filename)\n",
    "    filename = filename.replace(\" \", \"_\")\n",
    "    filename = re.sub(r'[^a-zA-Z0-9_]', '', filename)\n",
    "    return filename\n",
    "\n",
    "def convert_to_pdf_file(content, title):\n",
    "    filename = normalize_filename(title) + '.pdf'\n",
    "    directory = 'data_source'\n",
    "    if not os.path.exists(directory):\n",
    "        os.makedirs(directory)\n",
    "    filepath = os.path.join(directory, filename)\n",
    "\n",
    "    print(filename)\n",
    "    pdf = FPDF()\n",
    "    pdf.add_page()\n",
    "\n",
    "    pdf.add_font('TimesNewRoman', '', 'times.ttf', uni=True)\n",
    "    pdf.set_font('TimesNewRoman', size=14)\n",
    "\n",
    "    pdf.multi_cell(0, 10, title)\n",
    "    pdf.multi_cell(0, 10, content)\n",
    "    pdf.output(filepath)"
   ]
  },
  {
   "cell_type": "code",
   "execution_count": 40,
   "metadata": {},
   "outputs": [
    {
     "name": "stdout",
     "output_type": "stream",
     "text": [
      "Tram_cam_Nguyen_nhan_dau_hieu_doi_tuong_va_cach_dieu_tri.pdf\n",
      "5_nguyen_nhan_gay_tram_cam_sau_sinh__nhan_biet_som_de_dieu_tri_kip_thoi.pdf\n",
      "Tram_cam_sau_sinh_keo_dai_bao_lau.pdf\n",
      "Lam_sao_de_vuot_qua_tram_cam_sau_sinh.pdf\n",
      "Tram_cam_sau_sinh_Tra_loi_10_cau_hoi_nay_de_biet_ban_co_bi_hay_khong__Ba_bau.pdf\n",
      "Cau_hoi_thuong_gap_lien_quan_den_tram_cam_sau_sinh.pdf\n",
      "Stress_Sau_Sinh_Nguyen_Nhan_Dau_Hieu_Va_Cach_Dieu_Tri.pdf\n",
      "Stress_co_bi_mat_sua_khong_Giai_phap_cho_me_co_sua_sau_sinh.pdf\n",
      "Vuot_qua_tram_cam_sau_sinh_Nhung_dieu_can_biet.pdf\n",
      "Postpartum_Depression__Postpartum_Depression__MSD_Manual_Consumer_Version.pdf\n",
      "Postpartum_depression__March_of_Dimes.pdf\n",
      "Cach_tri_tre_so_sinh_quay_khoc_ban_dem.pdf\n",
      "Nhung_cach_giam_stress_sau_sinh_hieu_qua_ma_ban_nen_biet__YouMed.pdf\n",
      "Co_the_phong_ngua_tram_cam_sau_sinh.pdf\n",
      "Tram_cam_sau_sinh_la_gi_Kham_Tu_van_o_dau_tot_TPHCM.pdf\n",
      "Tre_so_sinh_hay_khoc_dem_va_cach_cai_thien_hieu_qua.pdf\n",
      "Cach_chua_em_be_khoc_dem_nhu_the_nao.pdf\n"
     ]
    }
   ],
   "source": [
    "with open('web_list.txt', 'r') as webs:\n",
    "    for web in webs:\n",
    "        web_url = web.strip()\n",
    "        content, title = read_content_from_web(web_url)\n",
    "        if content and title:\n",
    "            convert_to_pdf_file(content, title)"
   ]
  },
  {
   "cell_type": "code",
   "execution_count": null,
   "metadata": {},
   "outputs": [],
   "source": []
  }
 ],
 "metadata": {
  "kernelspec": {
   "display_name": ".env",
   "language": "python",
   "name": "python3"
  },
  "language_info": {
   "codemirror_mode": {
    "name": "ipython",
    "version": 3
   },
   "file_extension": ".py",
   "mimetype": "text/x-python",
   "name": "python",
   "nbconvert_exporter": "python",
   "pygments_lexer": "ipython3",
   "version": "3.11.7"
  }
 },
 "nbformat": 4,
 "nbformat_minor": 2
}
