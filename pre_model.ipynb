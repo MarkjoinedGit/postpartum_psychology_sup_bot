{
 "cells": [
  {
   "cell_type": "markdown",
   "metadata": {},
   "source": [
    "### Download file GGUF"
   ]
  },
  {
   "cell_type": "code",
   "execution_count": 17,
   "metadata": {},
   "outputs": [
    {
     "name": "stdout",
     "output_type": "stream",
     "text": [
      "Tệp gemma-2-9b.Q4_K_M.gguf đã tồn tại trong thư mục models.\n"
     ]
    }
   ],
   "source": [
    "import requests\n",
    "import os\n",
    "\n",
    "url = 'https://huggingface.co/lmstudio-community/gemma-2-9b-it-GGUF/resolve/main/gemma-2-9b-it-Q3_K_L.gguf?download=true'\n",
    "save_directory = 'models'\n",
    "filename = 'gemma-2-9b-it-Q3_K_L.gguf'\n",
    "\n",
    "# Create the directory if it doesn't exist\n",
    "os.makedirs(save_directory, exist_ok=True)\n",
    "\n",
    "file_path = os.path.join(save_directory, filename)\n",
    "\n",
    "if os.path.exists(file_path):\n",
    "    print(f'Tệp {filename} đã tồn tại trong thư mục {save_directory}.')\n",
    "else:\n",
    "    response = requests.get(url, stream=True)\n",
    "\n",
    "    if response.status_code == 200:\n",
    "        total_size = int(response.headers.get('content-length', 0))  # Total size in bytes\n",
    "        block_size = 8192  # Download in chunks of 8KB\n",
    "        progress = 0  # Track the progress\n",
    "\n",
    "        with open(file_path, 'wb') as file:\n",
    "            for chunk in response.iter_content(chunk_size=block_size):\n",
    "                if chunk:\n",
    "                    file.write(chunk)\n",
    "                    progress += len(chunk)\n",
    "                    percent_complete = (progress / total_size) * 100\n",
    "                    print(f'Tải xuống: {percent_complete:.2f}%', end='\\r')\n",
    "\n",
    "        print(f'\\nTệp đã được tải xuống và lưu tại {file_path}')\n",
    "    else:\n",
    "        print('Có lỗi xảy ra trong quá trình tải xuống.')\n"
   ]
  },
  {
   "cell_type": "markdown",
   "metadata": {},
   "source": [
    "### Run Llama.cpp server\n",
    "**python -m llama_cpp.server --model models/PhoGPT-4B-Chat-Q4_K_M.gguf --n_ctx 8192**"
   ]
  },
  {
   "cell_type": "markdown",
   "metadata": {},
   "source": [
    "### Call model via API (llama_cpp server) with Langchain"
   ]
  },
  {
   "cell_type": "code",
   "execution_count": 1,
   "metadata": {},
   "outputs": [],
   "source": [
    "from langchain_openai import ChatOpenAI\n",
    "llm = ChatOpenAI(base_url=\"http://localhost:8000/v1\", api_key=\"llama.cpp\")"
   ]
  },
  {
   "cell_type": "markdown",
   "metadata": {},
   "source": [
    "### Define the Offline_RAG Class"
   ]
  },
  {
   "cell_type": "code",
   "execution_count": 2,
   "metadata": {},
   "outputs": [],
   "source": [
    "from langchain_core.prompts import ChatPromptTemplate\n",
    "from langchain.chains import ConversationalRetrievalChain\n",
    "\n",
    "class Offline_RAG:\n",
    "    def __init__(self, llm) -> None:\n",
    "        self.llm = llm\n",
    "\n",
    "        self.history_chat =[]\n",
    "        \n",
    "        condense_question_template = \"\"\"\n",
    "        Với đoạn hội thoại sau và một câu hỏi tiếp theo, hãy diễn đạt lại câu hỏi tiếp theo để nó trở thành một câu hỏi độc lập.\n",
    "        \n",
    "        Lịch sử hội thoại:\n",
    "        {chat_history}\n",
    "        Câu hỏi tiếp theo: {question}\n",
    "        Câu hỏi độc lập:\"\"\"\n",
    "        \n",
    "        self.condense_question_prompt = ChatPromptTemplate.from_template(condense_question_template)\n",
    "\n",
    "        qa_template = \"\"\"\n",
    "        Bạn là trợ lý AI hỗ trợ về sức khoẻ tâm lý sau sinh. \n",
    "        Dựa vào nội dung gợi ý trả lời bên dưới, hãy đưa ra câu trả lời và lời khuyên phù hợp cho câu hỏi của họ.\n",
    "        Nếu bạn không biết câu trả lời, hãy nói không biết, đừng cố tạo ra câu trả lời.\n",
    "\n",
    "        Lịch sử hội thoại:\n",
    "        {chat_history}\n",
    "\n",
    "        Nội dung gợi ý trả lời:\n",
    "        {context}\n",
    "\n",
    "        Câu hỏi: {question}\n",
    "        \"\"\"\n",
    "\n",
    "        self.qa_prompt = ChatPromptTemplate.from_template(qa_template)\n",
    "\n",
    "    def get_chain(self, retriever):\n",
    "        rag_chain = ConversationalRetrievalChain.from_llm(\n",
    "            llm,\n",
    "            retriever,\n",
    "            condense_question_prompt=self.condense_question_prompt,\n",
    "            combine_docs_chain_kwargs={\n",
    "                \"prompt\": self.qa_prompt,\n",
    "            },\n",
    "            return_source_documents=True,\n",
    "        )\n",
    "        return rag_chain\n",
    "    \n",
    "    def add_history(self, user_chat, bot_chat):\n",
    "        self.history_chat.append((\"user\", user_chat))\n",
    "        self.history_chat.append((\"assistant\", bot_chat))\n",
    "    \n",
    "    def get_input_data(self,question):\n",
    "        return {\n",
    "            \"chat_history\": self.history_chat,\n",
    "            \"question\": question\n",
    "        }"
   ]
  },
  {
   "cell_type": "markdown",
   "metadata": {},
   "source": [
    "### Define the VectorDB class using Pinecone"
   ]
  },
  {
   "cell_type": "code",
   "execution_count": 3,
   "metadata": {},
   "outputs": [
    {
     "name": "stderr",
     "output_type": "stream",
     "text": [
      "c:\\Users\\Admin\\anaconda3\\envs\\chatbot\\Lib\\site-packages\\pinecone\\data\\index.py:1: TqdmWarning: IProgress not found. Please update jupyter and ipywidgets. See https://ipywidgets.readthedocs.io/en/stable/user_install.html\n",
      "  from tqdm.autonotebook import tqdm\n",
      "c:\\Users\\Admin\\anaconda3\\envs\\chatbot\\Lib\\site-packages\\langchain_core\\_api\\deprecation.py:151: LangChainDeprecationWarning: The class `HuggingFaceEmbeddings` was deprecated in LangChain 0.2.2 and will be removed in 1.0. An updated version of the class exists in the langchain-huggingface package and should be used instead. To use it run `pip install -U langchain-huggingface` and import as `from langchain_huggingface import HuggingFaceEmbeddings`.\n",
      "  warn_deprecated(\n",
      "c:\\Users\\Admin\\anaconda3\\envs\\chatbot\\Lib\\site-packages\\transformers\\tokenization_utils_base.py:1601: FutureWarning: `clean_up_tokenization_spaces` was not set. It will be set to `True` by default. This behavior will be depracted in transformers v4.45, and will be then set to `False` by default. For more details check this issue: https://github.com/huggingface/transformers/issues/31884\n",
      "  warnings.warn(\n"
     ]
    }
   ],
   "source": [
    "import os\n",
    "from langchain_community.embeddings import HuggingFaceEmbeddings\n",
    "from langchain_pinecone import PineconeVectorStore\n",
    "\n",
    "class VectorDB:\n",
    "    def __init__(self,\n",
    "                 embedding = HuggingFaceEmbeddings()) -> None:\n",
    "        os.environ['PINECONE_API_KEY'] = \"73bdec39-1f93-47fc-bd2f-f02883d7be83\"\n",
    "        self.pinecone_api_key = os.getenv('PINECONE_API_KEY')\n",
    "        self.embedding = embedding\n",
    "        self.db = self._build_db()\n",
    "    \n",
    "    def _build_db(self):\n",
    "        db = PineconeVectorStore.from_existing_index(\n",
    "            index_name=\"docs-rag-chatbot\",\n",
    "            namespace=\"docs-search\",\n",
    "            embedding=self.embedding\n",
    "        )\n",
    "        return db\n",
    "    \n",
    "    # tính similarity\n",
    "    def get_retriever(self,\n",
    "                      search_type: str = \"similarity\",\n",
    "                      search_kwargs: dict = {\"k\": 5}\n",
    "                      ):\n",
    "        retriever =self.db.as_retriever(search_type=search_type,\n",
    "                                        search_kwargs=search_kwargs)\n",
    "        return retriever"
   ]
  },
  {
   "cell_type": "markdown",
   "metadata": {},
   "source": [
    "### Function build chain"
   ]
  },
  {
   "cell_type": "code",
   "execution_count": 5,
   "metadata": {},
   "outputs": [],
   "source": [
    "def build_rag_chain(llm):\n",
    "    retriever = VectorDB().get_retriever()\n",
    "    off_rag = Offline_RAG(llm)\n",
    "    rag_chain = off_rag.get_chain(retriever)\n",
    "    return rag_chain, off_rag"
   ]
  },
  {
   "cell_type": "markdown",
   "metadata": {},
   "source": [
    "### Run example"
   ]
  },
  {
   "cell_type": "markdown",
   "metadata": {},
   "source": [
    "#### Not prompt and context"
   ]
  },
  {
   "cell_type": "code",
   "execution_count": 7,
   "metadata": {},
   "outputs": [
    {
     "name": "stdout",
     "output_type": "stream",
     "text": [
      "{'input': 'Đau đầu, mệt mỏi, suy nghĩ tiêu cực sau sinh là bị bệnh gì?', 'history': '', 'response': 'Chào bạn! Tôi hiểu bạn đang lo lắng về những triệu chứng bạn đang trải qua sau khi sinh nở.  Đau đầu, mệt mỏi và suy nghĩ tiêu cực sau sinh là những triệu chứng rất phổ biến được gọi là **bệnh trầm cảm sau sinh** hoặc **baby blues**. \\n\\nTuy nhiên, tôi không phải là chuyên gia y tế nên tôi không thể chẩn đoán bệnh.  Điều quan trọng nhất là bạn cần đến gặp bác sĩ để được kiểm tra và tư vấn điều trị phù hợp. Bác sĩ có thể giúp bạn xác định nguyên nhân của những triệu chứng này và đưa ra lời khuyên tốt nhất cho trường hợp của bạn. \\n\\nHãy nhớ rằng, bạn không đơn độc và rất nhiều phụ nữ khác cũng trải qua những cảm xúc tương tự sau khi sinh con.  Đừng ngần ngại tìm kiếm sự trợ giúp từ người thân, bạn bè hoặc các chuyên gia y tế.\\n\\n\\n'}\n",
      "Time: 91.38202548027039\n",
      "{'input': 'Hiện tại tôi không có thời gian đi bác sĩ, con tôi cứ khóc hoài, có cách nào để cho nó ngủ ngoan không ?', 'history': 'Human: Đau đầu, mệt mỏi, suy nghĩ tiêu cực sau sinh là bị bệnh gì?\\nAI: Chào bạn! Tôi hiểu bạn đang lo lắng về những triệu chứng bạn đang trải qua sau khi sinh nở.  Đau đầu, mệt mỏi và suy nghĩ tiêu cực sau sinh là những triệu chứng rất phổ biến được gọi là **bệnh trầm cảm sau sinh** hoặc **baby blues**. \\n\\nTuy nhiên, tôi không phải là chuyên gia y tế nên tôi không thể chẩn đoán bệnh.  Điều quan trọng nhất là bạn cần đến gặp bác sĩ để được kiểm tra và tư vấn điều trị phù hợp. Bác sĩ có thể giúp bạn xác định nguyên nhân của những triệu chứng này và đưa ra lời khuyên tốt nhất cho trường hợp của bạn. \\n\\nHãy nhớ rằng, bạn không đơn độc và rất nhiều phụ nữ khác cũng trải qua những cảm xúc tương tự sau khi sinh con.  Đừng ngần ngại tìm kiếm sự trợ giúp từ người thân, bạn bè hoặc các chuyên gia y tế.\\n\\n\\n', 'response': 'Tôi hiểu bạn đang rất mệt mỏi và muốn bé ngủ ngon giấc.  Tuy nhiên, như tôi đã nói trước, tôi không phải là chuyên gia y tế và không thể đưa lời khuyên về chăm sóc trẻ sơ sinh. \\n\\nCó nhiều cách để giúp bé ngủ ngoan hơn, nhưng mỗi em bé đều khác nhau và điều gì hiệu quả với một em bé có thể không hiệu quả với em bé khác.  Bạn có thể thử những mẹo sau:\\n\\n* **Tạo môi trường ngủ yên tĩnh và tối:** Giảm thiểu tiếng ồn và ánh sáng xung quanh nơi bé ngủ.\\n* **Thực hiện thói quen trước khi ngủ:** Tắm nước ấm, massage nhẹ nhàng, hát ru hoặc đọc sách cho bé có thể giúp bé thư giãn và sẵn sàng ngủ.\\n* **Cho bé bú đầy đủ:**  Bé sẽ dễ ngủ hơn nếu đã no nê.\\n* **Dành thời gian chăm sóc bé:** Đôi khi bé khóc vì cần sự quan tâm và gần gũi của mẹ.\\n\\nTuy nhiên, nếu bé khóc liên tục hoặc có dấu hiệu bất thường, bạn nên liên hệ với bác sĩ hoặc chuyên gia chăm sóc trẻ sơ sinh để được tư vấn. \\n\\n\\n'}\n",
      "Time: 160.35926842689514\n",
      "Average time: 125.87064695358276\n"
     ]
    }
   ],
   "source": [
    "from langchain.chains.conversation.memory import ConversationBufferMemory\n",
    "from langchain import OpenAI\n",
    "from langchain.chains import ConversationChain\n",
    "import time\n",
    "\n",
    "memory = ConversationBufferMemory()\n",
    "conversation = ConversationChain(\n",
    "    llm=llm, \n",
    "    memory=memory\n",
    ")\n",
    "sum_time = 0\n",
    "n = 0\n",
    "while True:\n",
    "    question = input(\"You: \")\n",
    "\n",
    "    if question == \"exit\":\n",
    "        break\n",
    "\n",
    "    start = time.time()\n",
    "    response = conversation.invoke({\n",
    "            \"input\": question\n",
    "        })\n",
    "    end = time.time()\n",
    "\n",
    "    sum_time += end - start\n",
    "    n += 1\n",
    "\n",
    "    print(response)\n",
    "    \n",
    "    print(f\"Time: {end - start}\")\n",
    "\n",
    "print(f\"Average time: {sum_time/n}\")\n"
   ]
  },
  {
   "cell_type": "markdown",
   "metadata": {},
   "source": [
    "#### Not context"
   ]
  },
  {
   "cell_type": "code",
   "execution_count": 8,
   "metadata": {},
   "outputs": [
    {
     "name": "stdout",
     "output_type": "stream",
     "text": [
      "{'input': 'Đau đầu, mệt mỏi, suy nghĩ tiêu cực sau sinh là bị bệnh gì?', 'history': '', 'response': 'Tôi hiểu bạn đang cảm thấy rất khó khăn.  Đau đầu, mệt mỏi và suy nghĩ tiêu cực sau sinh là những triệu chứng thường gặp của **thoi ương trầm cảm** (postpartum depression).\\n\\nTuy nhiên, tôi không phải là chuyên gia y tế và không thể chẩn đoán bệnh. \\n\\n**Điều quan trọng nhất là bạn nên liên hệ với bác sĩ hoặc chuyên gia sức khỏe tâm thần để được tư vấn và hỗ trợ phù hợp.** Họ có thể giúp bạn xác định nguyên nhân của những triệu chứng bạn đang gặp phải và đưa ra phương pháp điều trị tốt nhất cho trường hợp của bạn.\\n\\nHãy nhớ rằng bạn không đơn độc và có rất nhiều nguồn lực sẵn sàng hỗ trợ bạn vượt qua giai đoạn này. \\n'}\n",
      "Time: 85.21116423606873\n",
      "{'input': 'Hiện tại tôi không có thời gian đi bác sĩ, con tôi cứ khóc hoài, có cách nào để cho nó ngủ ngoan không ?', 'history': 'Human: Đau đầu, mệt mỏi, suy nghĩ tiêu cực sau sinh là bị bệnh gì?\\nAI: Tôi hiểu bạn đang cảm thấy rất khó khăn.  Đau đầu, mệt mỏi và suy nghĩ tiêu cực sau sinh là những triệu chứng thường gặp của **thoi ương trầm cảm** (postpartum depression).\\n\\nTuy nhiên, tôi không phải là chuyên gia y tế và không thể chẩn đoán bệnh. \\n\\n**Điều quan trọng nhất là bạn nên liên hệ với bác sĩ hoặc chuyên gia sức khỏe tâm thần để được tư vấn và hỗ trợ phù hợp.** Họ có thể giúp bạn xác định nguyên nhân của những triệu chứng bạn đang gặp phải và đưa ra phương pháp điều trị tốt nhất cho trường hợp của bạn.\\n\\nHãy nhớ rằng bạn không đơn độc và có rất nhiều nguồn lực sẵn sàng hỗ trợ bạn vượt qua giai đoạn này. \\n', 'response': 'Tôi hiểu bạn đang trong một tình huống rất khó khăn và mệt mỏi.  Việc chăm sóc một em bé sơ sinh có thể rất áp lực, đặc biệt khi bạn đang cảm thấy đau đầu, mệt mỏi và suy nghĩ tiêu cực. \\n\\nTuy nhiên, tôi không phải là chuyên gia về việc chăm sóc trẻ sơ sinh và không thể đưa ra lời khuyên y tế. \\n\\n**Điều quan trọng là bạn nên ưu tiên sức khỏe của chính mình.** Hãy tìm một người có thể giúp bạn trông trẻ cho một lúc ngắn ngủi để bạn có thể nghỉ ngơi hoặc liên hệ với gia đình, bạn bè hoặc các nhóm hỗ trợ sau sinh để được sự trợ giúp.  \\n'}\n",
      "Time: 116.77633357048035\n",
      "Average time: 100.99374890327454\n"
     ]
    }
   ],
   "source": [
    "from langchain.chains.conversation.memory import ConversationBufferMemory\n",
    "from langchain import OpenAI\n",
    "from langchain.chains import ConversationChain\n",
    "from langchain_core.prompts import ChatPromptTemplate\n",
    "\n",
    "memory = ConversationBufferMemory()\n",
    "qa_template = \"\"\"\n",
    "        Bạn là trợ lý AI hỗ trợ về sức khoẻ tâm lý sau sinh. \n",
    "        Hãy đưa ra câu trả lời và lời khuyên phù hợp cho câu hỏi của họ.\n",
    "        Nếu bạn không biết câu trả lời, hãy nói không biết, đừng cố tạo ra câu trả lời.\n",
    "\n",
    "        Lịch sử hội thoại:\n",
    "        {history}\n",
    "\n",
    "        Câu hỏi: {input}\n",
    "        \"\"\"\n",
    "qa_prompt = ChatPromptTemplate.from_template(qa_template)\n",
    "\n",
    "conversation = ConversationChain(\n",
    "    llm=llm, \n",
    "    memory=memory,\n",
    "    prompt = qa_prompt\n",
    ")\n",
    "\n",
    "sum_time = 0\n",
    "n = 0\n",
    "\n",
    "while True:\n",
    "    question = input(\"You: \")\n",
    "    if question == \"exit\":\n",
    "        break\n",
    "    start = time.time()\n",
    "    response = conversation.invoke({\n",
    "            \"input\": question\n",
    "        })\n",
    "    end = time.time()\n",
    "    sum_time += end - start\n",
    "    n += 1\n",
    "    print(response)\n",
    "    print(f\"Time: {end - start}\")\n",
    "\n",
    "print(f\"Average time: {sum_time/n}\")"
   ]
  },
  {
   "cell_type": "markdown",
   "metadata": {},
   "source": [
    "#### Context"
   ]
  },
  {
   "cell_type": "code",
   "execution_count": 7,
   "metadata": {},
   "outputs": [
    {
     "name": "stdout",
     "output_type": "stream",
     "text": [
      "{'chat_history': [], 'question': 'Đau đầu, mệt mỏi, suy nghĩ tiêu cực sau sinh là bị bệnh gì?', 'answer': 'Dấu hiệu đau đầu, mệt mỏi và suy nghĩ tiêu cực sau sinh có thể là những triệu chứng của **trầm cảm sau sinh**. \\n\\n\\nTrầm cảm sau sinh là một căn bệnh tâm lý phổ biến xảy ra sau khi sinh con.  \\n\\nHãy nhớ rằng bạn không phải đơn độc và cần tìm kiếm sự giúp đỡ từ người thân hoặc chuyên gia y tế.\\n', 'source_documents': [Document(metadata={'source': 'https://tamanhhospital.vn/tram-cam-sau-sinh/'}, page_content='lưu ý giúp phụ nữ ngăn ngừa trầm cảm sau sinhTham gia khóa học tiền sảnYêu cầu giúp đỡ từ người thânKhông quá áp lực việc chăm conTrầm cảm sau sinh là gì?'), Document(metadata={'source': 'https://tamanhhospital.vn/tram-cam-sau-sinh/'}, page_content='Sức khỏe giảm sút: Những phụ nữ sau sinh có thể trạng yếu, bị đau trong quá trình sinh nở thường tác động tâm trạng phụ nữ. Cơn đau kéo dài, cộng với việc chăm con mới sinh vất vả nảy sinh tâm lý bực bội, cáu gắt, gia tăng cảm giác chán ghét bản thân và cả em bé.'), Document(metadata={'author': '', 'creationDate': \"D:20181129204655+07'00'\", 'creator': '', 'file_path': '..\\\\RAG\\\\data_source\\\\generative_ai\\\\TRANTHONHI-LAytcc33.pdf', 'format': 'PDF 1.7', 'keywords': '', 'modDate': \"D:20181129204655+07'00'\", 'page': 133.0, 'producer': 'Foxit Reader PDF Printer Version 8.0.0.0407', 'source': '..\\\\RAG\\\\data_source\\\\generative_ai\\\\TRANTHONHI-LAytcc33.pdf', 'subject': '', 'title': '', 'total_pages': 208.0, 'trapped': ''}, page_content='cách tự do trong bệnh viện về vấn đề trầm cảm sau sinh. Tuy nhiên, họ lại rất \\nkhó khăn khi chia sẻ với các thành viên trong gia đình vì chính người thân \\ntrong gia đình đã ngăn cản họ tìm kiếm sự giúp đỡ hoặc không cho phép chia \\nsẻ những vấn đề của mình cho người khác. Bởi vì, gia đình họ không thừa \\nnhận những triệu chứng trầm cảm của phụ nữ vì gia đình sợ bị kỳ thị [91]. \\nVấn đề này tương tự như trong nghiên cứu của chúng tôi, một số phụ nữ'), Document(metadata={'source': 'https://tamanhhospital.vn/tram-cam-sau-sinh/'}, page_content='Đối với người con có mẹ mắc bệnh trầm cảm\\xa0\\nNhững đứa trẻ có mẹ bị trầm cảm nhiều nguy cơ không phát triển cảm xúc, hành vi:\\n\\nChậm phát triển ngôn ngữ, vận động;\\nHạn chế khả năng giao tiếp;\\nCó thể có những hành vi bất thường hoặc dễ kích động hơn trẻ bình thường;\\nTrẻ dễ căng thẳng và khó thích nghi với môi trường, khó hòa nhập xã hội…\\n\\nĐối với gia đình'), Document(metadata={'author': '', 'creationDate': \"D:20181129204655+07'00'\", 'creator': '', 'file_path': '..\\\\RAG\\\\data_source\\\\generative_ai\\\\TRANTHONHI-LAytcc33.pdf', 'format': 'PDF 1.7', 'keywords': '', 'modDate': \"D:20181129204655+07'00'\", 'page': 116.0, 'producer': 'Foxit Reader PDF Printer Version 8.0.0.0407', 'source': '..\\\\RAG\\\\data_source\\\\generative_ai\\\\TRANTHONHI-LAytcc33.pdf', 'subject': '', 'title': '', 'total_pages': 208.0, 'trapped': ''}, page_content='trong giai đoạn này rất quan trọng giúp cho họ nhanh chóng hồi phụ sức khỏe. \\nVì vậy, những căng thẳng về tâm lý, mệt mỏi, buồn phiền trong thời gian sau \\nsinh như phải chăm sóc trẻ (đặc biệt ban đêm), bất đồng trong quan hệ với các \\nthành viên trong gia đình đặc biệt với chồng, không được sự trợ giúp của \\nngười thân, không được nghỉ ngơi sau sinh… đều có thể là những yếu tố nguy \\ncơ dẫn đến trầm cảm sau sinh.')]}\n",
      "Time: 190.5478870868683\n",
      "{'chat_history': [('user', 'Đau đầu, mệt mỏi, suy nghĩ tiêu cực sau sinh là bị bệnh gì?'), ('assistant', 'Dấu hiệu đau đầu, mệt mỏi và suy nghĩ tiêu cực sau sinh có thể là những triệu chứng của **trầm cảm sau sinh**. \\n\\n\\nTrầm cảm sau sinh là một căn bệnh tâm lý phổ biến xảy ra sau khi sinh con.  \\n\\nHãy nhớ rằng bạn không phải đơn độc và cần tìm kiếm sự giúp đỡ từ người thân hoặc chuyên gia y tế.\\n')], 'question': 'Hiện tại tôi không có thời gian đi bác sĩ, con tôi cứ khóc hoài, có cách nào để cho nó ngủ ngoan không ?', 'answer': 'Có nhiều mẹo an ủi và giúp bé ngủ ngon hơn. \\n\\nMột số mẹo phổ biến:\\n\\n* **Tạo thói quen đều đặn:**  Chuẩn bị cho bé một thời gian đi ngủ cố định mỗi ngày, bao gồm cả tắm, thay bỉm và đọc truyện.\\n* **Ngôi nhà yên tĩnh:** Tạo một môi trường ngủ yên tĩnh và thoải mái với nhiệt độ phù hợp và ánh sáng tối. \\n* **Âm nhạc nhẹ nhàng:**  Âm nhạc dịu dàng hoặc tiếng ru có thể giúp bé thư giãn và dễ ngủ hơn.\\n* **Massage nhẹ nhàng:** Massage lưng, chân và tay cho bé trước khi đi ngủ có thể giúp bé thư giãn.\\n* **Ru con bằng cách vỗ về:** Vỗ về bé một cách đều đặn và êm dịu có thể giúp bé cảm thấy an toàn và được an ủi.\\n\\nNếu bạn vẫn gặp khó khăn, hãy tìm kiếm lời khuyên từ bác sĩ nhi khoa hoặc các chuyên gia chăm sóc trẻ sơ sinh.\\n\\n\\n', 'source_documents': [Document(metadata={'author': '', 'creationDate': \"D:20181129204655+07'00'\", 'creator': '', 'file_path': '..\\\\RAG\\\\data_source\\\\generative_ai\\\\TRANTHONHI-LAytcc33.pdf', 'format': 'PDF 1.7', 'keywords': '', 'modDate': \"D:20181129204655+07'00'\", 'page': 55.0, 'producer': 'Foxit Reader PDF Printer Version 8.0.0.0407', 'source': '..\\\\RAG\\\\data_source\\\\generative_ai\\\\TRANTHONHI-LAytcc33.pdf', 'subject': '', 'title': '', 'total_pages': 208.0, 'trapped': ''}, page_content='+ Tỷ lệ % phụ nữ trả lời có thể cười và cảm nhận những điều vui \\nvẻ phân theo mức độ: cũng như trước đây, ít hơn trước đây, chắc \\nchắn là ít hơn trước đây, hiếm khi. \\n+ Tỷ lệ % phụ nữ trả lời nhìn về tương lai với niềm hân hoan theo \\nmức độ: cũng như trước đây, ít hơn trước đây, chắc chắn là ít \\nhơn trước đây, hiếm khi. \\n+ Tỷ lệ % phụ nữ trả lời tự đổ lỗi cho mình một cách quá mức khi \\nsự việc không đúng như mong muốn theo mức độ: Có, hầu hết'), Document(metadata={'author': '', 'creationDate': \"D:20181129204655+07'00'\", 'creator': '', 'file_path': '..\\\\RAG\\\\data_source\\\\generative_ai\\\\TRANTHONHI-LAytcc33.pdf', 'format': 'PDF 1.7', 'keywords': '', 'modDate': \"D:20181129204655+07'00'\", 'page': 202.0, 'producer': 'Foxit Reader PDF Printer Version 8.0.0.0407', 'source': '..\\\\RAG\\\\data_source\\\\generative_ai\\\\TRANTHONHI-LAytcc33.pdf', 'subject': '', 'title': '', 'total_pages': 208.0, 'trapped': ''}, page_content='kiến sinh; dự kiến ngày phỏng vấn lần 2; nơi sẽ phỏng vấn lần 2; tên điều tra \\nviên sẽ theo dõi các thai phụ…của các thai phụ đủ điều kiện đưa vào nghiên \\ncứu vào mẫu “Quản lý đối tượng”. \\n2. Trợ lý nghiên cứu sẽ ghi lại các thông tin cần thiết về sức khỏe của thai phụ và \\nthai nhi vào sổ khám thai cho các thai phụ.  \\n3. Trợ lý nghiên cứu sẽ ghi lại “Mã cá nhân” của các thai phụ và dự kiến ngày \\nphỏng vấn lần 2 vào sổ khám thai cho các thai phụ.'), Document(metadata={'source': 'https://tamanhhospital.vn/tram-cam-sau-sinh/'}, page_content='Tham gia khóa học tiền sản\\nĐối với các mẹ sinh con đầu lòng nên đến các lớp học tiền sản và kết bạn với những phụ nữ mang thai khác hoặc những người mới làm cha mẹ để chia sẻ kiến thức, tinh thần chuẩn bị đón con.\\xa0\\nYêu cầu giúp đỡ từ người thân\\nViệc chăm sóc một em bé mới chào đời sẽ gặp nhiều khó khăn, phụ nữ sau sinh cơ thể yếu ớt kèm theo giờ giấc sinh hoạt đảo lộn. Chúng ta hãy yêu cầu giúp đỡ từ chồng, người thân trong việc cùng chăm sóc một đứa trẻ, ưu tiên mẹ có thời gian ngủ, nghỉ.'), Document(metadata={'author': '', 'creationDate': \"D:20181129204655+07'00'\", 'creator': '', 'file_path': '..\\\\RAG\\\\data_source\\\\generative_ai\\\\TRANTHONHI-LAytcc33.pdf', 'format': 'PDF 1.7', 'keywords': '', 'modDate': \"D:20181129204655+07'00'\", 'page': 32.0, 'producer': 'Foxit Reader PDF Printer Version 8.0.0.0407', 'source': '..\\\\RAG\\\\data_source\\\\generative_ai\\\\TRANTHONHI-LAytcc33.pdf', 'subject': '', 'title': '', 'total_pages': 208.0, 'trapped': ''}, page_content='theo từng quốc gia và khu vực. Sở dĩ có sự khác nhau này là do sử dụng thang \\nđo khác nhau, hoặc cùng thang đo nhưng sử dụng điểm cắt khác nhau, thời \\ngian đo khác nhau và thực hiện trên các đối tượng ở các địa điểm khác nhau \\nnhư thực hiện ở cộng đồng hay trong bệnh viện [60].'), Document(metadata={'author': '', 'creationDate': \"D:20181129204655+07'00'\", 'creator': '', 'file_path': '..\\\\RAG\\\\data_source\\\\generative_ai\\\\TRANTHONHI-LAytcc33.pdf', 'format': 'PDF 1.7', 'keywords': '', 'modDate': \"D:20181129204655+07'00'\", 'page': 67.0, 'producer': 'Foxit Reader PDF Printer Version 8.0.0.0407', 'source': '..\\\\RAG\\\\data_source\\\\generative_ai\\\\TRANTHONHI-LAytcc33.pdf', 'subject': '', 'title': '', 'total_pages': 208.0, 'trapped': ''}, page_content='thông tin trước khi bắt đầu tiến hành thu thập.  \\nHàng tháng nghiên cứu sinh gửi danh sách phụ nữ phỏng vấn theo từng \\ngiai đoạn cho mỗi điều tra viên. Họ được cập nhật thông tin thường xuyên và \\nhướng dẫn cụ thể. Họ liên lạc thường xuyên với nghiên cứu viên và các cán \\nbộ dự án báo cáo tất cả những khó khăn, vấn đề thu thập số liệu và tình trạng \\ncủa phụ nữ. \\n- Tập huấn thu thập số liệu \\nNghiên cứu sinh tập huấn cho điều tra viên thu thập số liệu định lượng \\nvới các bước sau đây:')]}\n",
      "Time: 421.0275583267212\n",
      "Average time: 305.78772270679474\n"
     ]
    }
   ],
   "source": [
    "import time\n",
    "chain, off_rag = build_rag_chain(llm)\n",
    "sum_time = 0\n",
    "n = 0\n",
    "while True:\n",
    "    question = input(\"You: \")\n",
    "    if question == \"exit\":\n",
    "        break\n",
    "    \n",
    "    start = time.time()\n",
    "    response = chain.invoke(off_rag.get_input_data(question))\n",
    "    end = time.time()\n",
    "\n",
    "    sum_time += end - start\n",
    "    n += 1\n",
    "\n",
    "    print(response)\n",
    "    \n",
    "    off_rag.add_history(question, response[\"answer\"])\n",
    "\n",
    "    print(f\"Time: {end - start}\")\n",
    "\n",
    "print(f\"Average time: {sum_time/n}\")"
   ]
  }
 ],
 "metadata": {
  "kernelspec": {
   "display_name": "base",
   "language": "python",
   "name": "python3"
  },
  "language_info": {
   "codemirror_mode": {
    "name": "ipython",
    "version": 3
   },
   "file_extension": ".py",
   "mimetype": "text/x-python",
   "name": "python",
   "nbconvert_exporter": "python",
   "pygments_lexer": "ipython3",
   "version": "3.12.4"
  }
 },
 "nbformat": 4,
 "nbformat_minor": 2
}
