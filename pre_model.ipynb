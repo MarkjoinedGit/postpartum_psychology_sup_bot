{
 "cells": [
  {
   "cell_type": "markdown",
   "metadata": {},
   "source": [
    "### Set up library and download file GGUF"
   ]
  },
  {
   "cell_type": "code",
   "execution_count": 15,
   "metadata": {},
   "outputs": [
    {
     "name": "stdout",
     "output_type": "stream",
     "text": [
      "Requirement already satisfied: llama-cpp-python in c:\\users\\admin\\anaconda3\\lib\\site-packages (0.2.87)\n",
      "Requirement already satisfied: typing-extensions>=4.5.0 in c:\\users\\admin\\anaconda3\\lib\\site-packages (from llama-cpp-python) (4.9.0)\n",
      "Requirement already satisfied: numpy>=1.20.0 in c:\\users\\admin\\anaconda3\\lib\\site-packages (from llama-cpp-python) (1.24.3)\n",
      "Requirement already satisfied: diskcache>=5.6.1 in c:\\users\\admin\\anaconda3\\lib\\site-packages (from llama-cpp-python) (5.6.3)\n",
      "Requirement already satisfied: jinja2>=2.11.3 in c:\\users\\admin\\anaconda3\\lib\\site-packages (from llama-cpp-python) (3.1.3)\n",
      "Requirement already satisfied: MarkupSafe>=2.0 in c:\\users\\admin\\anaconda3\\lib\\site-packages (from jinja2>=2.11.3->llama-cpp-python) (2.1.3)\n"
     ]
    }
   ],
   "source": [
    "!pip install llama-cpp-python"
   ]
  },
  {
   "cell_type": "code",
   "execution_count": 16,
   "metadata": {},
   "outputs": [
    {
     "name": "stdout",
     "output_type": "stream",
     "text": [
      "Requirement already satisfied: llama-cpp-python[server] in c:\\users\\admin\\anaconda3\\lib\\site-packages (0.2.87)\n",
      "Requirement already satisfied: typing-extensions>=4.5.0 in c:\\users\\admin\\anaconda3\\lib\\site-packages (from llama-cpp-python[server]) (4.9.0)\n",
      "Requirement already satisfied: numpy>=1.20.0 in c:\\users\\admin\\anaconda3\\lib\\site-packages (from llama-cpp-python[server]) (1.24.3)\n",
      "Requirement already satisfied: diskcache>=5.6.1 in c:\\users\\admin\\anaconda3\\lib\\site-packages (from llama-cpp-python[server]) (5.6.3)\n",
      "Requirement already satisfied: jinja2>=2.11.3 in c:\\users\\admin\\anaconda3\\lib\\site-packages (from llama-cpp-python[server]) (3.1.3)\n",
      "Requirement already satisfied: uvicorn>=0.22.0 in c:\\users\\admin\\anaconda3\\lib\\site-packages (from llama-cpp-python[server]) (0.30.1)\n",
      "Requirement already satisfied: fastapi>=0.100.0 in c:\\users\\admin\\anaconda3\\lib\\site-packages (from llama-cpp-python[server]) (0.111.0)\n",
      "Requirement already satisfied: pydantic-settings>=2.0.1 in c:\\users\\admin\\anaconda3\\lib\\site-packages (from llama-cpp-python[server]) (2.4.0)\n",
      "Requirement already satisfied: sse-starlette>=1.6.1 in c:\\users\\admin\\anaconda3\\lib\\site-packages (from llama-cpp-python[server]) (2.1.2)\n",
      "Requirement already satisfied: starlette-context<0.4,>=0.3.6 in c:\\users\\admin\\anaconda3\\lib\\site-packages (from llama-cpp-python[server]) (0.3.6)\n",
      "Requirement already satisfied: PyYAML>=5.1 in c:\\users\\admin\\anaconda3\\lib\\site-packages (from llama-cpp-python[server]) (6.0.1)\n",
      "Requirement already satisfied: starlette<0.38.0,>=0.37.2 in c:\\users\\admin\\anaconda3\\lib\\site-packages (from fastapi>=0.100.0->llama-cpp-python[server]) (0.37.2)\n",
      "Requirement already satisfied: pydantic!=1.8,!=1.8.1,!=2.0.0,!=2.0.1,!=2.1.0,<3.0.0,>=1.7.4 in c:\\users\\admin\\anaconda3\\lib\\site-packages (from fastapi>=0.100.0->llama-cpp-python[server]) (2.8.2)\n",
      "Requirement already satisfied: fastapi-cli>=0.0.2 in c:\\users\\admin\\anaconda3\\lib\\site-packages (from fastapi>=0.100.0->llama-cpp-python[server]) (0.0.4)\n",
      "Requirement already satisfied: httpx>=0.23.0 in c:\\users\\admin\\anaconda3\\lib\\site-packages (from fastapi>=0.100.0->llama-cpp-python[server]) (0.27.0)\n",
      "Requirement already satisfied: python-multipart>=0.0.7 in c:\\users\\admin\\anaconda3\\lib\\site-packages (from fastapi>=0.100.0->llama-cpp-python[server]) (0.0.9)\n",
      "Requirement already satisfied: ujson!=4.0.2,!=4.1.0,!=4.2.0,!=4.3.0,!=5.0.0,!=5.1.0,>=4.0.1 in c:\\users\\admin\\anaconda3\\lib\\site-packages (from fastapi>=0.100.0->llama-cpp-python[server]) (5.4.0)\n",
      "Requirement already satisfied: orjson>=3.2.1 in c:\\users\\admin\\anaconda3\\lib\\site-packages (from fastapi>=0.100.0->llama-cpp-python[server]) (3.10.6)\n",
      "Requirement already satisfied: email_validator>=2.0.0 in c:\\users\\admin\\anaconda3\\lib\\site-packages (from fastapi>=0.100.0->llama-cpp-python[server]) (2.2.0)\n",
      "Requirement already satisfied: MarkupSafe>=2.0 in c:\\users\\admin\\anaconda3\\lib\\site-packages (from jinja2>=2.11.3->llama-cpp-python[server]) (2.1.3)\n",
      "Requirement already satisfied: python-dotenv>=0.21.0 in c:\\users\\admin\\anaconda3\\lib\\site-packages (from pydantic-settings>=2.0.1->llama-cpp-python[server]) (0.21.0)\n",
      "Requirement already satisfied: anyio in c:\\users\\admin\\anaconda3\\lib\\site-packages (from sse-starlette>=1.6.1->llama-cpp-python[server]) (4.2.0)\n",
      "Requirement already satisfied: click>=7.0 in c:\\users\\admin\\anaconda3\\lib\\site-packages (from uvicorn>=0.22.0->llama-cpp-python[server]) (8.1.7)\n",
      "Requirement already satisfied: h11>=0.8 in c:\\users\\admin\\anaconda3\\lib\\site-packages (from uvicorn>=0.22.0->llama-cpp-python[server]) (0.14.0)\n",
      "Requirement already satisfied: colorama in c:\\users\\admin\\anaconda3\\lib\\site-packages (from click>=7.0->uvicorn>=0.22.0->llama-cpp-python[server]) (0.4.6)\n",
      "Requirement already satisfied: dnspython>=2.0.0 in c:\\users\\admin\\anaconda3\\lib\\site-packages (from email_validator>=2.0.0->fastapi>=0.100.0->llama-cpp-python[server]) (2.6.1)\n",
      "Requirement already satisfied: idna>=2.0.0 in c:\\users\\admin\\anaconda3\\lib\\site-packages (from email_validator>=2.0.0->fastapi>=0.100.0->llama-cpp-python[server]) (2.10)\n",
      "Requirement already satisfied: typer>=0.12.3 in c:\\users\\admin\\anaconda3\\lib\\site-packages (from fastapi-cli>=0.0.2->fastapi>=0.100.0->llama-cpp-python[server]) (0.12.3)\n",
      "Requirement already satisfied: certifi in c:\\users\\admin\\anaconda3\\lib\\site-packages (from httpx>=0.23.0->fastapi>=0.100.0->llama-cpp-python[server]) (2024.6.2)\n",
      "Requirement already satisfied: httpcore==1.* in c:\\users\\admin\\anaconda3\\lib\\site-packages (from httpx>=0.23.0->fastapi>=0.100.0->llama-cpp-python[server]) (1.0.5)\n",
      "Requirement already satisfied: sniffio in c:\\users\\admin\\anaconda3\\lib\\site-packages (from httpx>=0.23.0->fastapi>=0.100.0->llama-cpp-python[server]) (1.3.0)\n",
      "Requirement already satisfied: annotated-types>=0.4.0 in c:\\users\\admin\\anaconda3\\lib\\site-packages (from pydantic!=1.8,!=1.8.1,!=2.0.0,!=2.0.1,!=2.1.0,<3.0.0,>=1.7.4->fastapi>=0.100.0->llama-cpp-python[server]) (0.7.0)\n",
      "Requirement already satisfied: pydantic-core==2.20.1 in c:\\users\\admin\\anaconda3\\lib\\site-packages (from pydantic!=1.8,!=1.8.1,!=2.0.0,!=2.0.1,!=2.1.0,<3.0.0,>=1.7.4->fastapi>=0.100.0->llama-cpp-python[server]) (2.20.1)\n",
      "Requirement already satisfied: httptools>=0.5.0 in c:\\users\\admin\\anaconda3\\lib\\site-packages (from uvicorn[standard]>=0.12.0->fastapi>=0.100.0->llama-cpp-python[server]) (0.6.1)\n",
      "Requirement already satisfied: watchfiles>=0.13 in c:\\users\\admin\\anaconda3\\lib\\site-packages (from uvicorn[standard]>=0.12.0->fastapi>=0.100.0->llama-cpp-python[server]) (0.22.0)\n",
      "Requirement already satisfied: websockets>=10.4 in c:\\users\\admin\\anaconda3\\lib\\site-packages (from uvicorn[standard]>=0.12.0->fastapi>=0.100.0->llama-cpp-python[server]) (11.0.3)\n",
      "Requirement already satisfied: shellingham>=1.3.0 in c:\\users\\admin\\anaconda3\\lib\\site-packages (from typer>=0.12.3->fastapi-cli>=0.0.2->fastapi>=0.100.0->llama-cpp-python[server]) (1.5.4)\n",
      "Requirement already satisfied: rich>=10.11.0 in c:\\users\\admin\\anaconda3\\lib\\site-packages (from typer>=0.12.3->fastapi-cli>=0.0.2->fastapi>=0.100.0->llama-cpp-python[server]) (13.7.1)\n",
      "Requirement already satisfied: markdown-it-py>=2.2.0 in c:\\users\\admin\\anaconda3\\lib\\site-packages (from rich>=10.11.0->typer>=0.12.3->fastapi-cli>=0.0.2->fastapi>=0.100.0->llama-cpp-python[server]) (2.2.0)\n",
      "Requirement already satisfied: pygments<3.0.0,>=2.13.0 in c:\\users\\admin\\anaconda3\\lib\\site-packages (from rich>=10.11.0->typer>=0.12.3->fastapi-cli>=0.0.2->fastapi>=0.100.0->llama-cpp-python[server]) (2.15.1)\n",
      "Requirement already satisfied: mdurl~=0.1 in c:\\users\\admin\\anaconda3\\lib\\site-packages (from markdown-it-py>=2.2.0->rich>=10.11.0->typer>=0.12.3->fastapi-cli>=0.0.2->fastapi>=0.100.0->llama-cpp-python[server]) (0.1.0)\n"
     ]
    }
   ],
   "source": [
    "!pip install llama-cpp-python[server]"
   ]
  },
  {
   "cell_type": "code",
   "execution_count": 17,
   "metadata": {},
   "outputs": [
    {
     "name": "stdout",
     "output_type": "stream",
     "text": [
      "Tệp gemma-2-9b.Q4_K_M.gguf đã tồn tại trong thư mục models.\n"
     ]
    }
   ],
   "source": [
    "import requests\n",
    "import os\n",
    "\n",
    "url = 'https://huggingface.co/QuantFactory/gemma-2-9b-GGUF/resolve/main/gemma-2-9b.Q4_K_M.gguf?download=true'\n",
    "save_directory = 'models'\n",
    "filename = 'gemma-2-9b.Q4_K_M.gguf'\n",
    "\n",
    "# Create the directory if it doesn't exist\n",
    "os.makedirs(save_directory, exist_ok=True)\n",
    "\n",
    "file_path = os.path.join(save_directory, filename)\n",
    "\n",
    "if os.path.exists(file_path):\n",
    "    print(f'Tệp {filename} đã tồn tại trong thư mục {save_directory}.')\n",
    "else:\n",
    "    response = requests.get(url, stream=True)\n",
    "\n",
    "    if response.status_code == 200:\n",
    "        total_size = int(response.headers.get('content-length', 0))  # Total size in bytes\n",
    "        block_size = 8192  # Download in chunks of 8KB\n",
    "        progress = 0  # Track the progress\n",
    "\n",
    "        with open(file_path, 'wb') as file:\n",
    "            for chunk in response.iter_content(chunk_size=block_size):\n",
    "                if chunk:\n",
    "                    file.write(chunk)\n",
    "                    progress += len(chunk)\n",
    "                    percent_complete = (progress / total_size) * 100\n",
    "                    print(f'Tải xuống: {percent_complete:.2f}%', end='\\r')\n",
    "\n",
    "        print(f'\\nTệp đã được tải xuống và lưu tại {file_path}')\n",
    "    else:\n",
    "        print('Có lỗi xảy ra trong quá trình tải xuống.')\n"
   ]
  },
  {
   "cell_type": "markdown",
   "metadata": {},
   "source": [
    "### Run Llama.cpp server\n",
    "**python -m llama_cpp.server --model models/PhoGPT-4B-Chat-Q4_K_M.gguf --n_ctx 8192**"
   ]
  },
  {
   "cell_type": "markdown",
   "metadata": {},
   "source": [
    "### Call model via API (llama_cpp server) with Langchain"
   ]
  },
  {
   "cell_type": "code",
   "execution_count": 19,
   "metadata": {},
   "outputs": [],
   "source": [
    "from langchain_openai import ChatOpenAI\n",
    "llm = ChatOpenAI(base_url=\"http://localhost:8000/v1\", api_key=\"llama.cpp\")"
   ]
  },
  {
   "cell_type": "markdown",
   "metadata": {},
   "source": [
    "### Define the Offline_RAG Class"
   ]
  },
  {
   "cell_type": "code",
   "execution_count": 20,
   "metadata": {},
   "outputs": [],
   "source": [
    "from langchain_core.runnables import RunnablePassthrough\n",
    "from langchain_core.prompts import PromptTemplate, ChatPromptTemplate\n",
    "from langchain_core.chat_history import (\n",
    "    BaseChatMessageHistory,\n",
    "    InMemoryChatMessageHistory,\n",
    ")\n",
    "from langchain_core.runnables.history import RunnableWithMessageHistory\n",
    "from langchain_core.messages import HumanMessage, AIMessage, SystemMessage\n",
    "\n",
    "\n",
    "class Offline_RAG:\n",
    "    def __init__(self, llm) -> None:\n",
    "        self.store = {}\n",
    "        self.llm = llm\n",
    "        self.messages = [\n",
    "            (\n",
    "                \"user\",\"Bạn là trợ lý AI hỗ trợ về sức khoẻ tâm lý sau sinh. Dựa vào ngữ cảnh bên dưới hãy đưa ra câu trả lời và lời khuyên phù hợp cho câu hỏi của họ. Nếu bạn không biết câu trả lời, hãy nói không biết, đừng cố tạo ra câu trả lời.\\n Ngữ cảnh: \\n{context}\\n\\n Câu hỏi: {question}\"\n",
    "            )\n",
    "        ]\n",
    "        self.prompt = ChatPromptTemplate.from_messages(self.messages)\n",
    "        self.with_message_history = RunnableWithMessageHistory(llm, self.get_session_history)\n",
    "\n",
    "    def get_session_history(self, session_id: str) -> BaseChatMessageHistory:\n",
    "        if session_id not in self.store:\n",
    "            self.store[session_id] = InMemoryChatMessageHistory()\n",
    "        return self.store[session_id]\n",
    "\n",
    "    def get_chain(self, retriever):\n",
    "        input_data = {\n",
    "            \"context\": retriever | self.format_docs,\n",
    "            \"question\": RunnablePassthrough()\n",
    "        }\n",
    "        rag_chain = (\n",
    "            input_data\n",
    "            | self.prompt\n",
    "            #| self.with_message_history\n",
    "        )\n",
    "        return rag_chain\n",
    "    \n",
    "    def format_docs(self, docs):\n",
    "        formatted_docs = \"\\n\\n\".join(doc.page_content for doc in docs)\n",
    "        self.list_doc ={\"context\" :formatted_docs}\n",
    "        print(self.list_doc)\n",
    "        return formatted_docs"
   ]
  },
  {
   "cell_type": "markdown",
   "metadata": {},
   "source": [
    "### Define the VectorDB class using Pinecone"
   ]
  },
  {
   "cell_type": "code",
   "execution_count": 21,
   "metadata": {},
   "outputs": [
    {
     "name": "stderr",
     "output_type": "stream",
     "text": [
      "c:\\Users\\Admin\\anaconda3\\envs\\chatbot\\Lib\\site-packages\\pinecone\\data\\index.py:1: TqdmWarning: IProgress not found. Please update jupyter and ipywidgets. See https://ipywidgets.readthedocs.io/en/stable/user_install.html\n",
      "  from tqdm.autonotebook import tqdm\n",
      "c:\\Users\\Admin\\anaconda3\\envs\\chatbot\\Lib\\site-packages\\langchain_core\\_api\\deprecation.py:151: LangChainDeprecationWarning: The class `HuggingFaceEmbeddings` was deprecated in LangChain 0.2.2 and will be removed in 1.0. An updated version of the class exists in the langchain-huggingface package and should be used instead. To use it run `pip install -U langchain-huggingface` and import as `from langchain_huggingface import HuggingFaceEmbeddings`.\n",
      "  warn_deprecated(\n",
      "c:\\Users\\Admin\\anaconda3\\envs\\chatbot\\Lib\\site-packages\\transformers\\tokenization_utils_base.py:1601: FutureWarning: `clean_up_tokenization_spaces` was not set. It will be set to `True` by default. This behavior will be depracted in transformers v4.45, and will be then set to `False` by default. For more details check this issue: https://github.com/huggingface/transformers/issues/31884\n",
      "  warnings.warn(\n"
     ]
    }
   ],
   "source": [
    "import os\n",
    "from langchain_community.embeddings import HuggingFaceEmbeddings\n",
    "from langchain_pinecone import PineconeVectorStore\n",
    "\n",
    "class VectorDB:\n",
    "    def __init__(self,\n",
    "                 embedding = HuggingFaceEmbeddings()) -> None:\n",
    "        os.environ['PINECONE_API_KEY'] = \"73bdec39-1f93-47fc-bd2f-f02883d7be83\"\n",
    "        self.pinecone_api_key = os.getenv('PINECONE_API_KEY')\n",
    "        self.embedding = embedding\n",
    "        self.db = self._build_db()\n",
    "    \n",
    "    def _build_db(self):\n",
    "        db = PineconeVectorStore.from_existing_index(\n",
    "            index_name=\"docs-rag-chatbot\",\n",
    "            namespace=\"docs-search\",\n",
    "            embedding=self.embedding\n",
    "        )\n",
    "        return db\n",
    "    \n",
    "    # tính similarity\n",
    "    def get_retriever(self,\n",
    "                      search_type: str = \"similarity\",\n",
    "                      search_kwargs: dict = {\"k\": 5}\n",
    "                      ):\n",
    "        retriever =self.db.as_retriever(search_type=search_type,\n",
    "                                        search_kwargs=search_kwargs)\n",
    "        return retriever"
   ]
  },
  {
   "cell_type": "markdown",
   "metadata": {},
   "source": [
    "### Function build chain"
   ]
  },
  {
   "cell_type": "code",
   "execution_count": 22,
   "metadata": {},
   "outputs": [],
   "source": [
    "def build_rag_chain(llm):\n",
    "    retriever = VectorDB().get_retriever()\n",
    "    off_rag = Offline_RAG(llm)\n",
    "    rag_chain = off_rag.get_chain(retriever)\n",
    "    return rag_chain, off_rag\n",
    "\n",
    "def build_rag_chain_from_off_rag(off_rag):\n",
    "    retriever = VectorDB().get_retriever()\n",
    "    rag_chain = off_rag.get_chain(retriever)\n",
    "    return rag_chain"
   ]
  },
  {
   "cell_type": "markdown",
   "metadata": {},
   "source": [
    "### Run example"
   ]
  },
  {
   "cell_type": "code",
   "execution_count": 23,
   "metadata": {},
   "outputs": [
    {
     "name": "stdout",
     "output_type": "stream",
     "text": [
      "{'context': 'lời của em sẽ được giữ bí mật, và em không cần phải trả lời bất kỳ câu hỏi mà em không muốn. Tôi \\ncó thể bắt đầu hỏi Em?\\n\\nlưu ý giúp phụ nữ ngăn ngừa trầm cảm sau sinhTham gia khóa học tiền sảnYêu cầu giúp đỡ từ người thânKhông quá áp lực việc chăm conTrầm cảm sau sinh là gì?\\n\\nĐối với người con có mẹ mắc bệnh trầm cảm\\xa0\\nNhững đứa trẻ có mẹ bị trầm cảm nhiều nguy cơ không phát triển cảm xúc, hành vi:\\n\\nChậm phát triển ngôn ngữ, vận động;\\nHạn chế khả năng giao tiếp;\\nCó thể có những hành vi bất thường hoặc dễ kích động hơn trẻ bình thường;\\nTrẻ dễ căng thẳng và khó thích nghi với môi trường, khó hòa nhập xã hội…\\n\\nĐối với gia đình\\n\\ngiúp đỡ của mọi người. \\nTất cả các thông tin mà chị cung cấp là tự nguyện, và sẽ được giữ bí mật \\nnghiêm ngặt và chỉ phục vụ cho mục đích nghiên cứu. Chị có thể dừng cuộc phỏng \\nvấn tại bất kỳ điểm nào, hoặc không trả lời bất cứ câu hỏi nào mà chúng tôi yêu \\ncầu. Tôi sẽ không viết ra tên của chị. Câu trả lời của chị sẽ chỉ được sử dụng để \\ngiúp nhà nước có quan tâm tốt hơn tới các vấn đề mà phụ nữ phải đối mặt, và phát\\n\\nYếu tố nguy cơ[sửa | sửa mã nguồn]\\nMột số người có khả năng mắc bệnh này cao hơn người khác điều đó có thể được dự đoán chính xác thông qua một số đặc điểm ở người mẹ giúp phòng tránh từ xa, theo các nghiên cứu thì những yếu tố sau sẽ làm tăng nguy cơ mắc trầm cảm sau sinh ở phụ nữ[4][8]:\\n\\nNghĩa vụ chăm sóc trẻ nhỏ phải được chia sẻ và người mẹ cần tránh mâu thuẫn với người thân đặc biệt là chồng, điều đó giúp hạn chế trầm cảm sau sinh[8]\\nBị trầm cảm trong thời kỳ mang thai'}\n",
      "[HumanMessage(content='Bạn là trợ lý AI hỗ trợ về sức khoẻ tâm lý sau sinh. Dựa vào ngữ cảnh bên dưới hãy đưa ra câu trả lời và lời khuyên phù hợp cho câu hỏi của họ. Nếu bạn không biết câu trả lời, hãy nói không biết, đừng cố tạo ra câu trả lời.\\n Ngữ cảnh: \\nlời của em sẽ được giữ bí mật, và em không cần phải trả lời bất kỳ câu hỏi mà em không muốn. Tôi \\ncó thể bắt đầu hỏi Em?\\n\\nlưu ý giúp phụ nữ ngăn ngừa trầm cảm sau sinhTham gia khóa học tiền sảnYêu cầu giúp đỡ từ người thânKhông quá áp lực việc chăm conTrầm cảm sau sinh là gì?\\n\\nĐối với người con có mẹ mắc bệnh trầm cảm\\xa0\\nNhững đứa trẻ có mẹ bị trầm cảm nhiều nguy cơ không phát triển cảm xúc, hành vi:\\n\\nChậm phát triển ngôn ngữ, vận động;\\nHạn chế khả năng giao tiếp;\\nCó thể có những hành vi bất thường hoặc dễ kích động hơn trẻ bình thường;\\nTrẻ dễ căng thẳng và khó thích nghi với môi trường, khó hòa nhập xã hội…\\n\\nĐối với gia đình\\n\\ngiúp đỡ của mọi người. \\nTất cả các thông tin mà chị cung cấp là tự nguyện, và sẽ được giữ bí mật \\nnghiêm ngặt và chỉ phục vụ cho mục đích nghiên cứu. Chị có thể dừng cuộc phỏng \\nvấn tại bất kỳ điểm nào, hoặc không trả lời bất cứ câu hỏi nào mà chúng tôi yêu \\ncầu. Tôi sẽ không viết ra tên của chị. Câu trả lời của chị sẽ chỉ được sử dụng để \\ngiúp nhà nước có quan tâm tốt hơn tới các vấn đề mà phụ nữ phải đối mặt, và phát\\n\\nYếu tố nguy cơ[sửa | sửa mã nguồn]\\nMột số người có khả năng mắc bệnh này cao hơn người khác điều đó có thể được dự đoán chính xác thông qua một số đặc điểm ở người mẹ giúp phòng tránh từ xa, theo các nghiên cứu thì những yếu tố sau sẽ làm tăng nguy cơ mắc trầm cảm sau sinh ở phụ nữ[4][8]:\\n\\nNghĩa vụ chăm sóc trẻ nhỏ phải được chia sẻ và người mẹ cần tránh mâu thuẫn với người thân đặc biệt là chồng, điều đó giúp hạn chế trầm cảm sau sinh[8]\\nBị trầm cảm trong thời kỳ mang thai\\n\\n Câu hỏi: Mất ngủ, cơ thể mệt mỏi sau sinh là dấu hiệu bệnh gì?')]\n",
      "{'ss1': InMemoryChatMessageHistory(messages=[HumanMessage(content='Bạn là trợ lý AI hỗ trợ về sức khoẻ tâm lý sau sinh. Dựa vào ngữ cảnh bên dưới hãy đưa ra câu trả lời và lời khuyên phù hợp cho câu hỏi của họ. Nếu bạn không biết câu trả lời, hãy nói không biết, đừng cố tạo ra câu trả lời.\\n Ngữ cảnh: \\nlời của em sẽ được giữ bí mật, và em không cần phải trả lời bất kỳ câu hỏi mà em không muốn. Tôi \\ncó thể bắt đầu hỏi Em?\\n\\nlưu ý giúp phụ nữ ngăn ngừa trầm cảm sau sinhTham gia khóa học tiền sảnYêu cầu giúp đỡ từ người thânKhông quá áp lực việc chăm conTrầm cảm sau sinh là gì?\\n\\nĐối với người con có mẹ mắc bệnh trầm cảm\\xa0\\nNhững đứa trẻ có mẹ bị trầm cảm nhiều nguy cơ không phát triển cảm xúc, hành vi:\\n\\nChậm phát triển ngôn ngữ, vận động;\\nHạn chế khả năng giao tiếp;\\nCó thể có những hành vi bất thường hoặc dễ kích động hơn trẻ bình thường;\\nTrẻ dễ căng thẳng và khó thích nghi với môi trường, khó hòa nhập xã hội…\\n\\nĐối với gia đình\\n\\ngiúp đỡ của mọi người. \\nTất cả các thông tin mà chị cung cấp là tự nguyện, và sẽ được giữ bí mật \\nnghiêm ngặt và chỉ phục vụ cho mục đích nghiên cứu. Chị có thể dừng cuộc phỏng \\nvấn tại bất kỳ điểm nào, hoặc không trả lời bất cứ câu hỏi nào mà chúng tôi yêu \\ncầu. Tôi sẽ không viết ra tên của chị. Câu trả lời của chị sẽ chỉ được sử dụng để \\ngiúp nhà nước có quan tâm tốt hơn tới các vấn đề mà phụ nữ phải đối mặt, và phát\\n\\nYếu tố nguy cơ[sửa | sửa mã nguồn]\\nMột số người có khả năng mắc bệnh này cao hơn người khác điều đó có thể được dự đoán chính xác thông qua một số đặc điểm ở người mẹ giúp phòng tránh từ xa, theo các nghiên cứu thì những yếu tố sau sẽ làm tăng nguy cơ mắc trầm cảm sau sinh ở phụ nữ[4][8]:\\n\\nNghĩa vụ chăm sóc trẻ nhỏ phải được chia sẻ và người mẹ cần tránh mâu thuẫn với người thân đặc biệt là chồng, điều đó giúp hạn chế trầm cảm sau sinh[8]\\nBị trầm cảm trong thời kỳ mang thai\\n\\n Câu hỏi: Mất ngủ, cơ thể mệt mỏi sau sinh là dấu hiệu bệnh gì?'), AIMessage(content='Mất ngủ và cơ thể mệt mỏi sau sinh là những triệu chứng rất phổ biến.  Chúng có thể là do nhiều lý do như:\\n\\n* **Điều chỉnh hormone:** Sau sinh, nồng độ hormone thay đổi rất mạnh, dẫn đến cảm giác mệt mỏi và khó ngủ. \\n* **Lo lắng và căng thẳng:** Chăm sóc một đứa trẻ sơ sinh đòi hỏi rất nhiều năng lượng và có thể gây ra stress.\\n* **Thiếu ngủ:** Đứa trẻ sơ sinh thường thức giấc nhiều lần trong đêm, khiến mẹ thiếu ngủ.\\n\\n\\n**Tuy nhiên, mất ngủ và mệt mỏi kéo dài hoặc nghiêm trọng có thể là dấu hiệu của trầm cảm sau sinh.**  Nếu bạn đang cảm thấy mệt mỏi đến mức ảnh hưởng đến cuộc sống hàng ngày, hãy nói chuyện với bác sĩ hoặc chuyên gia sức khỏe tâm thần để được tư vấn và hỗ trợ. \\n', response_metadata={'token_usage': {'completion_tokens': 190, 'prompt_tokens': 533, 'total_tokens': 723}, 'model_name': 'gpt-3.5-turbo', 'system_fingerprint': None, 'finish_reason': 'stop', 'logprobs': None}, id='run-bc071581-9ff1-442c-8c2e-f73ceafda3b4-0', usage_metadata={'input_tokens': 533, 'output_tokens': 190, 'total_tokens': 723})])}\n",
      "Mất ngủ và cơ thể mệt mỏi sau sinh là những triệu chứng rất phổ biến.  Chúng có thể là do nhiều lý do như:\n",
      "\n",
      "* **Điều chỉnh hormone:** Sau sinh, nồng độ hormone thay đổi rất mạnh, dẫn đến cảm giác mệt mỏi và khó ngủ. \n",
      "* **Lo lắng và căng thẳng:** Chăm sóc một đứa trẻ sơ sinh đòi hỏi rất nhiều năng lượng và có thể gây ra stress.\n",
      "* **Thiếu ngủ:** Đứa trẻ sơ sinh thường thức giấc nhiều lần trong đêm, khiến mẹ thiếu ngủ.\n",
      "\n",
      "\n",
      "**Tuy nhiên, mất ngủ và mệt mỏi kéo dài hoặc nghiêm trọng có thể là dấu hiệu của trầm cảm sau sinh.**  Nếu bạn đang cảm thấy mệt mỏi đến mức ảnh hưởng đến cuộc sống hàng ngày, hãy nói chuyện với bác sĩ hoặc chuyên gia sức khỏe tâm thần để được tư vấn và hỗ trợ. \n",
      "\n",
      "{'context': 'sinh con bác sĩ có thể kê đơn thuốc phòng ngừa trầm cảm sau sinh ngay sau khi em bé chào đời.\\n\\nTrầm cảm sau sinh có thể do thay đổi nội tiết tố đột ngột\\n\\nPhụ nữ sau sinh thường buồn phiền và vô cùng mệt mỏi\\n\\n\\n\\n3. Nguyên nhân dẫn tới trầm cảm sau sinh?\\n\\nTrầm cảm có thể ở mức nhẹ, vừa hoặc nặng, có thể tự khỏi, nhưng cũng có nhiều trường hợp nặng không can thiệp điều trị kịp thời dẫn đến người mẹ mất tự chủ, xuất hiện hành động tự hủy hoại bản thân, thậm chí chọn cách kết thúc sinh mệnh cả mẹ và con.\\nNguyên nhân dẫn đến trầm cảm sau sinh\\n\\nvà hệ thống các yếu tố nguy cơ ảnh hưởng đến trầm cảm trong mang thai và sau \\nsinh, cũng như  hành vi tìm kiếm dịch vụ hỗ trợ của phụ nữ có dấu hiệu trầm'}\n",
      "[HumanMessage(content='Bạn là trợ lý AI hỗ trợ về sức khoẻ tâm lý sau sinh. Dựa vào ngữ cảnh bên dưới hãy đưa ra câu trả lời và lời khuyên phù hợp cho câu hỏi của họ. Nếu bạn không biết câu trả lời, hãy nói không biết, đừng cố tạo ra câu trả lời.\\n Ngữ cảnh: \\nsinh con bác sĩ có thể kê đơn thuốc phòng ngừa trầm cảm sau sinh ngay sau khi em bé chào đời.\\n\\nTrầm cảm sau sinh có thể do thay đổi nội tiết tố đột ngột\\n\\nPhụ nữ sau sinh thường buồn phiền và vô cùng mệt mỏi\\n\\n\\n\\n3. Nguyên nhân dẫn tới trầm cảm sau sinh?\\n\\nTrầm cảm có thể ở mức nhẹ, vừa hoặc nặng, có thể tự khỏi, nhưng cũng có nhiều trường hợp nặng không can thiệp điều trị kịp thời dẫn đến người mẹ mất tự chủ, xuất hiện hành động tự hủy hoại bản thân, thậm chí chọn cách kết thúc sinh mệnh cả mẹ và con.\\nNguyên nhân dẫn đến trầm cảm sau sinh\\n\\nvà hệ thống các yếu tố nguy cơ ảnh hưởng đến trầm cảm trong mang thai và sau \\nsinh, cũng như  hành vi tìm kiếm dịch vụ hỗ trợ của phụ nữ có dấu hiệu trầm\\n\\n Câu hỏi: Nếu tôi thật sự đang bị trầm cảm sau sinh thì uống thuốc để điều trị được không ?')]\n",
      "{'ss1': InMemoryChatMessageHistory(messages=[HumanMessage(content='Bạn là trợ lý AI hỗ trợ về sức khoẻ tâm lý sau sinh. Dựa vào ngữ cảnh bên dưới hãy đưa ra câu trả lời và lời khuyên phù hợp cho câu hỏi của họ. Nếu bạn không biết câu trả lời, hãy nói không biết, đừng cố tạo ra câu trả lời.\\n Ngữ cảnh: \\nlời của em sẽ được giữ bí mật, và em không cần phải trả lời bất kỳ câu hỏi mà em không muốn. Tôi \\ncó thể bắt đầu hỏi Em?\\n\\nlưu ý giúp phụ nữ ngăn ngừa trầm cảm sau sinhTham gia khóa học tiền sảnYêu cầu giúp đỡ từ người thânKhông quá áp lực việc chăm conTrầm cảm sau sinh là gì?\\n\\nĐối với người con có mẹ mắc bệnh trầm cảm\\xa0\\nNhững đứa trẻ có mẹ bị trầm cảm nhiều nguy cơ không phát triển cảm xúc, hành vi:\\n\\nChậm phát triển ngôn ngữ, vận động;\\nHạn chế khả năng giao tiếp;\\nCó thể có những hành vi bất thường hoặc dễ kích động hơn trẻ bình thường;\\nTrẻ dễ căng thẳng và khó thích nghi với môi trường, khó hòa nhập xã hội…\\n\\nĐối với gia đình\\n\\ngiúp đỡ của mọi người. \\nTất cả các thông tin mà chị cung cấp là tự nguyện, và sẽ được giữ bí mật \\nnghiêm ngặt và chỉ phục vụ cho mục đích nghiên cứu. Chị có thể dừng cuộc phỏng \\nvấn tại bất kỳ điểm nào, hoặc không trả lời bất cứ câu hỏi nào mà chúng tôi yêu \\ncầu. Tôi sẽ không viết ra tên của chị. Câu trả lời của chị sẽ chỉ được sử dụng để \\ngiúp nhà nước có quan tâm tốt hơn tới các vấn đề mà phụ nữ phải đối mặt, và phát\\n\\nYếu tố nguy cơ[sửa | sửa mã nguồn]\\nMột số người có khả năng mắc bệnh này cao hơn người khác điều đó có thể được dự đoán chính xác thông qua một số đặc điểm ở người mẹ giúp phòng tránh từ xa, theo các nghiên cứu thì những yếu tố sau sẽ làm tăng nguy cơ mắc trầm cảm sau sinh ở phụ nữ[4][8]:\\n\\nNghĩa vụ chăm sóc trẻ nhỏ phải được chia sẻ và người mẹ cần tránh mâu thuẫn với người thân đặc biệt là chồng, điều đó giúp hạn chế trầm cảm sau sinh[8]\\nBị trầm cảm trong thời kỳ mang thai\\n\\n Câu hỏi: Mất ngủ, cơ thể mệt mỏi sau sinh là dấu hiệu bệnh gì?'), AIMessage(content='Mất ngủ và cơ thể mệt mỏi sau sinh là những triệu chứng rất phổ biến.  Chúng có thể là do nhiều lý do như:\\n\\n* **Điều chỉnh hormone:** Sau sinh, nồng độ hormone thay đổi rất mạnh, dẫn đến cảm giác mệt mỏi và khó ngủ. \\n* **Lo lắng và căng thẳng:** Chăm sóc một đứa trẻ sơ sinh đòi hỏi rất nhiều năng lượng và có thể gây ra stress.\\n* **Thiếu ngủ:** Đứa trẻ sơ sinh thường thức giấc nhiều lần trong đêm, khiến mẹ thiếu ngủ.\\n\\n\\n**Tuy nhiên, mất ngủ và mệt mỏi kéo dài hoặc nghiêm trọng có thể là dấu hiệu của trầm cảm sau sinh.**  Nếu bạn đang cảm thấy mệt mỏi đến mức ảnh hưởng đến cuộc sống hàng ngày, hãy nói chuyện với bác sĩ hoặc chuyên gia sức khỏe tâm thần để được tư vấn và hỗ trợ. \\n', response_metadata={'token_usage': {'completion_tokens': 190, 'prompt_tokens': 533, 'total_tokens': 723}, 'model_name': 'gpt-3.5-turbo', 'system_fingerprint': None, 'finish_reason': 'stop', 'logprobs': None}, id='run-bc071581-9ff1-442c-8c2e-f73ceafda3b4-0', usage_metadata={'input_tokens': 533, 'output_tokens': 190, 'total_tokens': 723}), HumanMessage(content='Bạn là trợ lý AI hỗ trợ về sức khoẻ tâm lý sau sinh. Dựa vào ngữ cảnh bên dưới hãy đưa ra câu trả lời và lời khuyên phù hợp cho câu hỏi của họ. Nếu bạn không biết câu trả lời, hãy nói không biết, đừng cố tạo ra câu trả lời.\\n Ngữ cảnh: \\nsinh con bác sĩ có thể kê đơn thuốc phòng ngừa trầm cảm sau sinh ngay sau khi em bé chào đời.\\n\\nTrầm cảm sau sinh có thể do thay đổi nội tiết tố đột ngột\\n\\nPhụ nữ sau sinh thường buồn phiền và vô cùng mệt mỏi\\n\\n\\n\\n3. Nguyên nhân dẫn tới trầm cảm sau sinh?\\n\\nTrầm cảm có thể ở mức nhẹ, vừa hoặc nặng, có thể tự khỏi, nhưng cũng có nhiều trường hợp nặng không can thiệp điều trị kịp thời dẫn đến người mẹ mất tự chủ, xuất hiện hành động tự hủy hoại bản thân, thậm chí chọn cách kết thúc sinh mệnh cả mẹ và con.\\nNguyên nhân dẫn đến trầm cảm sau sinh\\n\\nvà hệ thống các yếu tố nguy cơ ảnh hưởng đến trầm cảm trong mang thai và sau \\nsinh, cũng như  hành vi tìm kiếm dịch vụ hỗ trợ của phụ nữ có dấu hiệu trầm\\n\\n Câu hỏi: Nếu tôi thật sự đang bị trầm cảm sau sinh thì uống thuốc để điều trị được không ?'), AIMessage(content='Tôi hiểu bạn đang lo lắng về việc trầm cảm sau sinh. Việc dùng thuốc là một trong những cách điều trị trầm cảm, nhưng quyết định này cần được đưa ra bởi bác sĩ chuyên khoa dựa trên tình trạng sức khỏe của bạn. \\n\\nHãy nói chuyện với bác sĩ hoặc chuyên gia sức khỏe tâm thần để được tư vấn và hỗ trợ thích hợp. Họ sẽ giúp bạn đánh giá tình hình và đưa ra phương pháp điều trị phù hợp nhất cho trường hợp của bạn, có thể là thuốc, liệu pháp tâm lý hoặc kết hợp cả hai.  \\n', response_metadata={'token_usage': {'completion_tokens': 115, 'prompt_tokens': 1012, 'total_tokens': 1127}, 'model_name': 'gpt-3.5-turbo', 'system_fingerprint': None, 'finish_reason': 'stop', 'logprobs': None}, id='run-75078fd1-0bdd-4ba9-a229-e182f4d037a1-0', usage_metadata={'input_tokens': 1012, 'output_tokens': 115, 'total_tokens': 1127})])}\n",
      "Tôi hiểu bạn đang lo lắng về việc trầm cảm sau sinh. Việc dùng thuốc là một trong những cách điều trị trầm cảm, nhưng quyết định này cần được đưa ra bởi bác sĩ chuyên khoa dựa trên tình trạng sức khỏe của bạn. \n",
      "\n",
      "Hãy nói chuyện với bác sĩ hoặc chuyên gia sức khỏe tâm thần để được tư vấn và hỗ trợ thích hợp. Họ sẽ giúp bạn đánh giá tình hình và đưa ra phương pháp điều trị phù hợp nhất cho trường hợp của bạn, có thể là thuốc, liệu pháp tâm lý hoặc kết hợp cả hai.  \n",
      "\n"
     ]
    }
   ],
   "source": [
    "config = {\"configurable\": {\"session_id\": \"ss1\"}}\n",
    "chain, off_rag = build_rag_chain(llm)\n",
    "while True:\n",
    "    question = input(\"You: \")\n",
    "    if question == \"exit\":\n",
    "        break\n",
    "    message = chain.invoke(question)\n",
    "    print(message.messages)\n",
    "    answer = off_rag.with_message_history.invoke(message.messages, config=config)\n",
    "    print(off_rag.store)\n",
    "    print(answer.content)"
   ]
  }
 ],
 "metadata": {
  "kernelspec": {
   "display_name": "base",
   "language": "python",
   "name": "python3"
  },
  "language_info": {
   "codemirror_mode": {
    "name": "ipython",
    "version": 3
   },
   "file_extension": ".py",
   "mimetype": "text/x-python",
   "name": "python",
   "nbconvert_exporter": "python",
   "pygments_lexer": "ipython3",
   "version": "3.12.4"
  }
 },
 "nbformat": 4,
 "nbformat_minor": 2
}
