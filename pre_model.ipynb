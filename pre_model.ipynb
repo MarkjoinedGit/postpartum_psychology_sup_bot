{
 "cells": [
  {
   "cell_type": "markdown",
   "metadata": {},
   "source": [
    "### Import library"
   ]
  },
  {
   "cell_type": "code",
   "execution_count": 10,
   "metadata": {},
   "outputs": [],
   "source": [
    "import os\n",
    "os.environ['PINECONE_API_KEY'] = \"73bdec39-1f93-47fc-bd2f-f02883d7be83\"\n",
    "pinecone_api_key = os.getenv('PINECONE_API_KEY')\n",
    "pinecone_api_key\n",
    "os.environ[\"SERPER_API_KEY\"] = \"caabb8481fd9568ce9e4f6149139098b7fd91f85\"\n",
    "from langchain_huggingface import HuggingFaceEmbeddings\n",
    "from langchain.schema import Document as lcDocument\n",
    "from langchain_pinecone import PineconeVectorStore\n",
    "from langchain_community.utilities import GoogleSerperAPIWrapper\n",
    "from bs4 import BeautifulSoup\n",
    "from readability import Document\n",
    "from langchain.text_splitter import RecursiveCharacterTextSplitter\n",
    "import re\n",
    "import requests\n",
    "from langchain_core.prompts import ChatPromptTemplate\n",
    "from langchain.chains import ConversationalRetrievalChain\n",
    "from langchain_openai import ChatOpenAI\n",
    "from langchain.chains.conversation.memory import ConversationBufferMemory\n",
    "from langchain.chains import ConversationChain\n",
    "import time\n"
   ]
  },
  {
   "cell_type": "markdown",
   "metadata": {},
   "source": [
    "### Download file GGUF"
   ]
  },
  {
   "cell_type": "code",
   "execution_count": 8,
   "metadata": {},
   "outputs": [
    {
     "name": "stdout",
     "output_type": "stream",
     "text": [
      "Tải xuống: 100.00%\n",
      "Tệp đã được tải xuống và lưu tại models\\Llama-3.1-MedPalm2-imitate-8B-Instruct.Q8_0.gguf\n"
     ]
    }
   ],
   "source": [
    "url = 'https://huggingface.co/mradermacher/Llama-3.1-MedPalm2-imitate-8B-Instruct-GGUF/resolve/main/Llama-3.1-MedPalm2-imitate-8B-Instruct.Q8_0.gguf?download=true'\n",
    "save_directory = 'models'\n",
    "filename = 'Llama-3.1-MedPalm2-imitate-8B-Instruct.Q8_0.gguf'\n",
    "\n",
    "# Create the directory if it doesn't exist\n",
    "os.makedirs(save_directory, exist_ok=True)\n",
    "\n",
    "file_path = os.path.join(save_directory, filename)\n",
    "\n",
    "if os.path.exists(file_path):\n",
    "    print(f'Tệp {filename} đã tồn tại trong thư mục {save_directory}.')\n",
    "else:\n",
    "    response = requests.get(url, stream=True)\n",
    "\n",
    "    if response.status_code == 200:\n",
    "        total_size = int(response.headers.get('content-length', 0))  # Total size in bytes\n",
    "        block_size = 8192  # Download in chunks of 8KB\n",
    "        progress = 0  # Track the progress\n",
    "\n",
    "        with open(file_path, 'wb') as file:\n",
    "            for chunk in response.iter_content(chunk_size=block_size):\n",
    "                if chunk:\n",
    "                    file.write(chunk)\n",
    "                    progress += len(chunk)\n",
    "                    percent_complete = (progress / total_size) * 100\n",
    "                    print(f'Tải xuống: {percent_complete:.2f}%', end='\\r')\n",
    "\n",
    "        print(f'\\nTệp đã được tải xuống và lưu tại {file_path}')\n",
    "    else:\n",
    "        print('Có lỗi xảy ra trong quá trình tải xuống.')\n"
   ]
  },
  {
   "cell_type": "markdown",
   "metadata": {},
   "source": [
    "### Call model via API (llama_cpp server) with Langchain"
   ]
  },
  {
   "cell_type": "code",
   "execution_count": 4,
   "metadata": {},
   "outputs": [],
   "source": [
    "llm = ChatOpenAI(base_url=\"http://zep.hcmute.fit/7500/v1\", api_key=\"llama.cpp\")"
   ]
  },
  {
   "cell_type": "markdown",
   "metadata": {},
   "source": [
    "### Define the WebSearchDB Class"
   ]
  },
  {
   "cell_type": "code",
   "execution_count": 5,
   "metadata": {},
   "outputs": [],
   "source": [
    "class WebSearchDB():\n",
    "    def __init__(self):\n",
    "        self.embedding = HuggingFaceEmbeddings()\n",
    "        self.db = PineconeVectorStore(index_name='docs-rag-chatbot', embedding=self.embedding)\n",
    "        self.text_slit = RecursiveCharacterTextSplitter(\n",
    "                            separators = [\"\\n\\n\", \"\\n\", \" \", \".\", \",\", \"\\u200b\", \"\\u3001\", \"\\uff0e\", \"\\u3002\", \"\"],\n",
    "                            chunk_size = 500,\n",
    "                            chunk_overlap = 50,\n",
    "                            length_function = len,\n",
    "                            is_separator_regex = False)\n",
    "        self.build_db()\n",
    "\n",
    "    def build_db(self):\n",
    "        namespace = \"docs-link\"\n",
    "        try:\n",
    "            results = self.db.similarity_search(query=\"test\", namespace=namespace, k=1)\n",
    "            if results:\n",
    "                print(f\"Namespace '{namespace}' đã tồn tại.\")\n",
    "                return self.db\n",
    "            else:\n",
    "                print(f\"Namespace '{namespace}' tồn tại nhưng chưa có dữ liệu.\")\n",
    "                dummy_texts = [\"Initial text for new namespace\"]\n",
    "                self.db.add_texts(dummy_texts, namespace=namespace)\n",
    "                return self.db\n",
    "        except Exception as e:\n",
    "            print(f\"Namespace '{namespace}' chưa tồn tại, sẽ tạo mới: {e}\")\n",
    "            dummy_texts = [\"Initial text for new namespace\"]\n",
    "            self.db.add_texts(dummy_texts, namespace=namespace)\n",
    "            return self.db\n",
    "    \n",
    "    def is_not_existed_url(self, url):\n",
    "        results = self.db.similarity_search(query=url, namespace=\"docs-link\", k=1)\n",
    "        if results and results[0].page_content == url:\n",
    "            return False\n",
    "        return True\n",
    "    \n",
    "    def store_pinecone(self, docs, namespace):\n",
    "        if docs:\n",
    "            db = PineconeVectorStore.from_documents(documents=docs, embedding=self.embedding, index_name=\"docs-rag-chatbot\", namespace=namespace)\n",
    "\n",
    "    def store_web_content(self, web_links):\n",
    "        documents = []\n",
    "        if web_links:\n",
    "            for link in web_links:\n",
    "                content, title = self.read_content_from_web(link)\n",
    "                if content:  # Check if content is valid\n",
    "                    doc = lcDocument(page_content=content, metadata={\"source\": title})\n",
    "                    chunks = self.text_slit.split_documents([doc]) \n",
    "                    cleaned_chunks = self.clean_data(chunks)\n",
    "                \n",
    "                    for i, chunk in enumerate(cleaned_chunks):\n",
    "                        doc_chunk = lcDocument(\n",
    "                            page_content=chunk.page_content,\n",
    "                            metadata={\"source\": title, \"chunk_id\": i}\n",
    "                        )\n",
    "                        documents.append(doc_chunk)\n",
    "\n",
    "            self.store_pinecone(documents, 'docs-store')\n",
    "\n",
    "    def clean_data(self, chunks):\n",
    "        cleaned_chunks = []\n",
    "        for chunk in chunks:\n",
    "            cleaned_content = chunk.page_content.replace(\"\\n\", \" \")\n",
    "            cleaned_content = re.sub(r'\\s+', ' ', chunk.page_content)\n",
    "            cleaned_content = cleaned_content.strip()\n",
    "            cleaned_chunks.append(lcDocument(page_content=cleaned_content, metadata=chunk.metadata))\n",
    "        return cleaned_chunks\n",
    "        \n",
    "    def read_content_from_web(self, url):\n",
    "        response = requests.get(url)\n",
    "        if response.status_code == 200:\n",
    "            doc = Document(response.content)\n",
    "            html_content = doc.summary()\n",
    "            title = doc.title()\n",
    "            soup = BeautifulSoup(html_content, \"html.parser\")\n",
    "            text_content = soup.get_text()\n",
    "            return text_content, title\n",
    "        return None, None\n",
    "\n",
    "    def add_url(self, results):    \n",
    "        links_document = []\n",
    "        links = []\n",
    "        for web in results['organic']:\n",
    "            if self.is_not_existed_url(web['link']):\n",
    "                link_doc = lcDocument(page_content=web['link'], metadata={'source': web['title']})\n",
    "                links_document.append(link_doc)\n",
    "                links.append(web['link'])\n",
    "        self.store_pinecone(links_document, namespace='docs-link')\n",
    "        self.store_web_content(links)"
   ]
  },
  {
   "cell_type": "markdown",
   "metadata": {},
   "source": [
    "### Define the Offline_RAG Class"
   ]
  },
  {
   "cell_type": "code",
   "execution_count": 6,
   "metadata": {},
   "outputs": [],
   "source": [
    "class HistoryChat:\n",
    "    def __init__(self):\n",
    "        self.history_chat  = []\n",
    "        self.full_user_questions  = []\n",
    "    \n",
    "    def add_history(self, user_chat, bot_chat):\n",
    "        self.history_chat.append((\"user\", user_chat))\n",
    "        self.history_chat.append((\"assistant\", bot_chat))\n",
    "        if len(self.history_chat) > 5:\n",
    "            self.history_chat.pop(0)\n",
    "        self.full_user_questions.append(user_chat)\n",
    "\n",
    "    def get_user_question(self):\n",
    "        return self.full_user_questions\n",
    "    \n",
    "    def get_chat_history(self):\n",
    "        return self.history_chat"
   ]
  },
  {
   "cell_type": "code",
   "execution_count": 7,
   "metadata": {},
   "outputs": [],
   "source": [
    "class Offline_RAG:\n",
    "    def __init__(self, llm) -> None:\n",
    "        self.llm = llm\n",
    "\n",
    "        self.history_manager = HistoryChat()\n",
    "        \n",
    "        condense_question_template = \"\"\"\n",
    "        Với đoạn hội thoại sau và một câu hỏi tiếp theo, hãy diễn đạt lại câu hỏi tiếp theo để nó trở thành một câu hỏi độc lập.\n",
    "        \n",
    "        Lịch sử hội thoại:\n",
    "        {chat_history}\n",
    "        Câu hỏi tiếp theo: {question}\n",
    "        Câu hỏi độc lập:\"\"\"\n",
    "        \n",
    "        self.condense_question_prompt = ChatPromptTemplate.from_template(condense_question_template)\n",
    "\n",
    "        qa_template = \"\"\"\n",
    "        Bạn là trợ lý AI hỗ trợ về sức khoẻ tâm lý sau sinh. \n",
    "        Dựa vào nội dung gợi ý trả lời bên dưới, hãy đưa ra câu trả lời và lời khuyên phù hợp cho câu hỏi của họ.\n",
    "        Nếu bạn không biết câu trả lời, hãy nói không biết, đừng cố tạo ra câu trả lời.\n",
    "\n",
    "        Lịch sử hội thoại:\n",
    "        {chat_history}\n",
    "\n",
    "        Nội dung gợi ý trả lời:\n",
    "        {context}\n",
    "\n",
    "        Câu hỏi: {question}\n",
    "        \"\"\"\n",
    "\n",
    "        self.qa_prompt = ChatPromptTemplate.from_template(qa_template)\n",
    "\n",
    "    def get_chain(self, retriever):\n",
    "        rag_chain = ConversationalRetrievalChain.from_llm(\n",
    "            llm,\n",
    "            retriever,\n",
    "            condense_question_prompt=self.condense_question_prompt,\n",
    "            combine_docs_chain_kwargs={\n",
    "                \"prompt\": self.qa_prompt,\n",
    "            },\n",
    "            return_source_documents=True,\n",
    "        )\n",
    "        return rag_chain\n",
    "    \n",
    "    def add_history(self, user_chat, bot_chat):\n",
    "        self.history_manager.add_history(user_chat, bot_chat)\n",
    "    \n",
    "    def get_input_data(self,question):\n",
    "        # search = GoogleSerperAPIWrapper()\n",
    "        # search.k = 2\n",
    "        # results = search.results(question)\n",
    "        # WebSearchDB().add_url(results=results)\n",
    "        chat_history = self.history_manager.get_chat_history()\n",
    "        return {\n",
    "            \"chat_history\": chat_history,\n",
    "            \"question\": question\n",
    "        }"
   ]
  },
  {
   "cell_type": "markdown",
   "metadata": {},
   "source": [
    "### Define the VectorDB class using Pinecone"
   ]
  },
  {
   "cell_type": "code",
   "execution_count": 8,
   "metadata": {},
   "outputs": [
    {
     "name": "stdout",
     "output_type": "stream",
     "text": [
      "WARNING:tensorflow:From c:\\Users\\Admin\\anaconda3\\envs\\chatbot\\Lib\\site-packages\\tf_keras\\src\\losses.py:2976: The name tf.losses.sparse_softmax_cross_entropy is deprecated. Please use tf.compat.v1.losses.sparse_softmax_cross_entropy instead.\n",
      "\n"
     ]
    },
    {
     "name": "stderr",
     "output_type": "stream",
     "text": [
      "c:\\Users\\Admin\\anaconda3\\envs\\chatbot\\Lib\\site-packages\\transformers\\tokenization_utils_base.py:1601: FutureWarning: `clean_up_tokenization_spaces` was not set. It will be set to `True` by default. This behavior will be depracted in transformers v4.45, and will be then set to `False` by default. For more details check this issue: https://github.com/huggingface/transformers/issues/31884\n",
      "  warnings.warn(\n"
     ]
    }
   ],
   "source": [
    "class VectorDB:\n",
    "    def __init__(self,\n",
    "                 embedding = HuggingFaceEmbeddings()) -> None:\n",
    "        os.environ['PINECONE_API_KEY'] = \"73bdec39-1f93-47fc-bd2f-f02883d7be83\"\n",
    "        self.pinecone_api_key = os.getenv('PINECONE_API_KEY')\n",
    "        self.embedding = embedding\n",
    "        self.db = self._build_db()\n",
    "    \n",
    "    def _build_db(self):\n",
    "        db = PineconeVectorStore.from_existing_index(\n",
    "            index_name=\"docs-rag-chatbot\",\n",
    "            namespace=\"docs-store\",\n",
    "            embedding=self.embedding\n",
    "        )\n",
    "        return db\n",
    "    \n",
    "    # tính similarity\n",
    "    def get_retriever(self,\n",
    "                      search_type: str = \"similarity\",\n",
    "                      search_kwargs: dict = {\"k\": 5}\n",
    "                      ):\n",
    "        retriever =self.db.as_retriever(search_type=search_type,\n",
    "                                        search_kwargs=search_kwargs)\n",
    "        return retriever"
   ]
  },
  {
   "cell_type": "markdown",
   "metadata": {},
   "source": [
    "### Function build chain"
   ]
  },
  {
   "cell_type": "code",
   "execution_count": 9,
   "metadata": {},
   "outputs": [],
   "source": [
    "def build_rag_chain(llm):\n",
    "    retriever = VectorDB().get_retriever()\n",
    "    off_rag = Offline_RAG(llm)\n",
    "    rag_chain = off_rag.get_chain(retriever)\n",
    "    return rag_chain, off_rag"
   ]
  },
  {
   "cell_type": "markdown",
   "metadata": {},
   "source": [
    "### Run example"
   ]
  },
  {
   "cell_type": "markdown",
   "metadata": {},
   "source": [
    "#### Not prompt and context"
   ]
  },
  {
   "cell_type": "code",
   "execution_count": 7,
   "metadata": {},
   "outputs": [
    {
     "name": "stdout",
     "output_type": "stream",
     "text": [
      "{'input': 'Đau đầu, mệt mỏi, suy nghĩ tiêu cực sau sinh là bị bệnh gì?', 'history': '', 'response': 'Chào bạn! Tôi hiểu bạn đang lo lắng về những triệu chứng bạn đang trải qua sau khi sinh nở.  Đau đầu, mệt mỏi và suy nghĩ tiêu cực sau sinh là những triệu chứng rất phổ biến được gọi là **bệnh trầm cảm sau sinh** hoặc **baby blues**. \\n\\nTuy nhiên, tôi không phải là chuyên gia y tế nên tôi không thể chẩn đoán bệnh.  Điều quan trọng nhất là bạn cần đến gặp bác sĩ để được kiểm tra và tư vấn điều trị phù hợp. Bác sĩ có thể giúp bạn xác định nguyên nhân của những triệu chứng này và đưa ra lời khuyên tốt nhất cho trường hợp của bạn. \\n\\nHãy nhớ rằng, bạn không đơn độc và rất nhiều phụ nữ khác cũng trải qua những cảm xúc tương tự sau khi sinh con.  Đừng ngần ngại tìm kiếm sự trợ giúp từ người thân, bạn bè hoặc các chuyên gia y tế.\\n\\n\\n'}\n",
      "Time: 91.38202548027039\n",
      "{'input': 'Hiện tại tôi không có thời gian đi bác sĩ, con tôi cứ khóc hoài, có cách nào để cho nó ngủ ngoan không ?', 'history': 'Human: Đau đầu, mệt mỏi, suy nghĩ tiêu cực sau sinh là bị bệnh gì?\\nAI: Chào bạn! Tôi hiểu bạn đang lo lắng về những triệu chứng bạn đang trải qua sau khi sinh nở.  Đau đầu, mệt mỏi và suy nghĩ tiêu cực sau sinh là những triệu chứng rất phổ biến được gọi là **bệnh trầm cảm sau sinh** hoặc **baby blues**. \\n\\nTuy nhiên, tôi không phải là chuyên gia y tế nên tôi không thể chẩn đoán bệnh.  Điều quan trọng nhất là bạn cần đến gặp bác sĩ để được kiểm tra và tư vấn điều trị phù hợp. Bác sĩ có thể giúp bạn xác định nguyên nhân của những triệu chứng này và đưa ra lời khuyên tốt nhất cho trường hợp của bạn. \\n\\nHãy nhớ rằng, bạn không đơn độc và rất nhiều phụ nữ khác cũng trải qua những cảm xúc tương tự sau khi sinh con.  Đừng ngần ngại tìm kiếm sự trợ giúp từ người thân, bạn bè hoặc các chuyên gia y tế.\\n\\n\\n', 'response': 'Tôi hiểu bạn đang rất mệt mỏi và muốn bé ngủ ngon giấc.  Tuy nhiên, như tôi đã nói trước, tôi không phải là chuyên gia y tế và không thể đưa lời khuyên về chăm sóc trẻ sơ sinh. \\n\\nCó nhiều cách để giúp bé ngủ ngoan hơn, nhưng mỗi em bé đều khác nhau và điều gì hiệu quả với một em bé có thể không hiệu quả với em bé khác.  Bạn có thể thử những mẹo sau:\\n\\n* **Tạo môi trường ngủ yên tĩnh và tối:** Giảm thiểu tiếng ồn và ánh sáng xung quanh nơi bé ngủ.\\n* **Thực hiện thói quen trước khi ngủ:** Tắm nước ấm, massage nhẹ nhàng, hát ru hoặc đọc sách cho bé có thể giúp bé thư giãn và sẵn sàng ngủ.\\n* **Cho bé bú đầy đủ:**  Bé sẽ dễ ngủ hơn nếu đã no nê.\\n* **Dành thời gian chăm sóc bé:** Đôi khi bé khóc vì cần sự quan tâm và gần gũi của mẹ.\\n\\nTuy nhiên, nếu bé khóc liên tục hoặc có dấu hiệu bất thường, bạn nên liên hệ với bác sĩ hoặc chuyên gia chăm sóc trẻ sơ sinh để được tư vấn. \\n\\n\\n'}\n",
      "Time: 160.35926842689514\n",
      "Average time: 125.87064695358276\n"
     ]
    }
   ],
   "source": [
    "memory = ConversationBufferMemory()\n",
    "conversation = ConversationChain(\n",
    "    llm=llm, \n",
    "    memory=memory\n",
    ")\n",
    "sum_time = 0\n",
    "n = 0\n",
    "while True:\n",
    "    question = input(\"You: \")\n",
    "\n",
    "    if question == \"exit\":\n",
    "        break\n",
    "\n",
    "    start = time.time()\n",
    "    response = conversation.invoke({\n",
    "            \"input\": question\n",
    "        })\n",
    "    end = time.time()\n",
    "\n",
    "    sum_time += end - start\n",
    "    n += 1\n",
    "\n",
    "    print(response)\n",
    "    \n",
    "    print(f\"Time: {end - start}\")\n",
    "\n",
    "print(f\"Average time: {sum_time/n}\")\n"
   ]
  },
  {
   "cell_type": "markdown",
   "metadata": {},
   "source": [
    "#### Not context"
   ]
  },
  {
   "cell_type": "code",
   "execution_count": 8,
   "metadata": {},
   "outputs": [
    {
     "name": "stdout",
     "output_type": "stream",
     "text": [
      "{'input': 'Đau đầu, mệt mỏi, suy nghĩ tiêu cực sau sinh là bị bệnh gì?', 'history': '', 'response': 'Tôi hiểu bạn đang cảm thấy rất khó khăn.  Đau đầu, mệt mỏi và suy nghĩ tiêu cực sau sinh là những triệu chứng thường gặp của **thoi ương trầm cảm** (postpartum depression).\\n\\nTuy nhiên, tôi không phải là chuyên gia y tế và không thể chẩn đoán bệnh. \\n\\n**Điều quan trọng nhất là bạn nên liên hệ với bác sĩ hoặc chuyên gia sức khỏe tâm thần để được tư vấn và hỗ trợ phù hợp.** Họ có thể giúp bạn xác định nguyên nhân của những triệu chứng bạn đang gặp phải và đưa ra phương pháp điều trị tốt nhất cho trường hợp của bạn.\\n\\nHãy nhớ rằng bạn không đơn độc và có rất nhiều nguồn lực sẵn sàng hỗ trợ bạn vượt qua giai đoạn này. \\n'}\n",
      "Time: 85.21116423606873\n",
      "{'input': 'Hiện tại tôi không có thời gian đi bác sĩ, con tôi cứ khóc hoài, có cách nào để cho nó ngủ ngoan không ?', 'history': 'Human: Đau đầu, mệt mỏi, suy nghĩ tiêu cực sau sinh là bị bệnh gì?\\nAI: Tôi hiểu bạn đang cảm thấy rất khó khăn.  Đau đầu, mệt mỏi và suy nghĩ tiêu cực sau sinh là những triệu chứng thường gặp của **thoi ương trầm cảm** (postpartum depression).\\n\\nTuy nhiên, tôi không phải là chuyên gia y tế và không thể chẩn đoán bệnh. \\n\\n**Điều quan trọng nhất là bạn nên liên hệ với bác sĩ hoặc chuyên gia sức khỏe tâm thần để được tư vấn và hỗ trợ phù hợp.** Họ có thể giúp bạn xác định nguyên nhân của những triệu chứng bạn đang gặp phải và đưa ra phương pháp điều trị tốt nhất cho trường hợp của bạn.\\n\\nHãy nhớ rằng bạn không đơn độc và có rất nhiều nguồn lực sẵn sàng hỗ trợ bạn vượt qua giai đoạn này. \\n', 'response': 'Tôi hiểu bạn đang trong một tình huống rất khó khăn và mệt mỏi.  Việc chăm sóc một em bé sơ sinh có thể rất áp lực, đặc biệt khi bạn đang cảm thấy đau đầu, mệt mỏi và suy nghĩ tiêu cực. \\n\\nTuy nhiên, tôi không phải là chuyên gia về việc chăm sóc trẻ sơ sinh và không thể đưa ra lời khuyên y tế. \\n\\n**Điều quan trọng là bạn nên ưu tiên sức khỏe của chính mình.** Hãy tìm một người có thể giúp bạn trông trẻ cho một lúc ngắn ngủi để bạn có thể nghỉ ngơi hoặc liên hệ với gia đình, bạn bè hoặc các nhóm hỗ trợ sau sinh để được sự trợ giúp.  \\n'}\n",
      "Time: 116.77633357048035\n",
      "Average time: 100.99374890327454\n"
     ]
    }
   ],
   "source": [
    "memory = ConversationBufferMemory()\n",
    "qa_template = \"\"\"\n",
    "        Bạn là trợ lý AI hỗ trợ về sức khoẻ tâm lý sau sinh. \n",
    "        Hãy đưa ra câu trả lời và lời khuyên phù hợp cho câu hỏi của họ.\n",
    "        Nếu bạn không biết câu trả lời, hãy nói không biết, đừng cố tạo ra câu trả lời.\n",
    "\n",
    "        Lịch sử hội thoại:\n",
    "        {history}\n",
    "\n",
    "        Câu hỏi: {input}\n",
    "        \"\"\"\n",
    "qa_prompt = ChatPromptTemplate.from_template(qa_template)\n",
    "\n",
    "conversation = ConversationChain(\n",
    "    llm=llm, \n",
    "    memory=memory,\n",
    "    prompt = qa_prompt\n",
    ")\n",
    "\n",
    "sum_time = 0\n",
    "n = 0\n",
    "\n",
    "while True:\n",
    "    question = input(\"You: \")\n",
    "    if question == \"exit\":\n",
    "        break\n",
    "    start = time.time()\n",
    "    response = conversation.invoke({\n",
    "            \"input\": question\n",
    "        })\n",
    "    end = time.time()\n",
    "    sum_time += end - start\n",
    "    n += 1\n",
    "    print(response)\n",
    "    print(f\"Time: {end - start}\")\n",
    "\n",
    "print(f\"Average time: {sum_time/n}\")"
   ]
  },
  {
   "cell_type": "markdown",
   "metadata": {},
   "source": [
    "#### Context"
   ]
  },
  {
   "cell_type": "code",
   "execution_count": 11,
   "metadata": {},
   "outputs": [],
   "source": [
    "def update_datbase_with_websearch(user_questions, web_search_db):\n",
    "    for question in user_questions:\n",
    "        search = GoogleSerperAPIWrapper()\n",
    "        search.k = 2\n",
    "        results = search.results(question)\n",
    "        web_search_db.add_url(results=results)"
   ]
  },
  {
   "cell_type": "code",
   "execution_count": 17,
   "metadata": {},
   "outputs": [
    {
     "name": "stderr",
     "output_type": "stream",
     "text": [
      "c:\\Users\\Admin\\anaconda3\\envs\\chatbot\\Lib\\site-packages\\transformers\\tokenization_utils_base.py:1601: FutureWarning: `clean_up_tokenization_spaces` was not set. It will be set to `True` by default. This behavior will be depracted in transformers v4.45, and will be then set to `False` by default. For more details check this issue: https://github.com/huggingface/transformers/issues/31884\n",
      "  warnings.warn(\n"
     ]
    },
    {
     "name": "stdout",
     "output_type": "stream",
     "text": [
      "Namespace 'docs-link' đã tồn tại.\n",
      "{'chat_history': [], 'question': 'Đau đầu, mệt mỏi, suy nghĩ tiêu cực sau sinh là bị bệnh gì?', 'answer': 'Các triệu chứng bạn mô tả (đau đầu, mệt mỏi, suy nghĩ tiêu cực) có thể là dấu hiệu của  **trầm cảm sau sinh**. \\n\\nTrầm cảm sau sinh là một loại rối loạn tâm thần ảnh hưởng đến phụ nữ sau khi sinh con. Nó có thể khiến bạn cảm thấy buồn bã, tuyệt vọng, mệt mỏi và khó tập trung. \\n\\n\\nBạn nên **nên nói chuyện với bác sĩ** để được chẩn đoán chính xác và nhận được lời khuyên phù hợp. \\n', 'source_documents': [Document(metadata={'page': 2.0, 'source': 'data_source\\\\Vuot_qua_tram_cam_sau_sinh_Nhung_dieu_can_biet.pdf'}, page_content='thời đẩy lùi nguy cơ mắc bệnh trầm cảm.Vai trò của người thân trong gia đìnhSự động viên của bạn bè, người thân và đặc biệt là người chồng sẽ tác động rất lớn đến tình trạng bệnh. Hãy thể hiện sự quan tâm, chia sẻ, gần gũi với thai phụ việc điều trị bệnh hiệu quả nhất.Thay vì giữ'), Document(metadata={'page': 4.0, 'source': 'data_source\\\\tram_cam_sau_sinh_nguyen_nhan_dau_hieu_phong_ngua_dieu_tri.pdf'}, page_content='thời, tăng cư ờng trao đ ổi với bạn bè, gia đình, tranh th ủ thời gian ng ủ nghỉ hợp lý để phòng ng ừa bệnh trầm cảm.'), Document(metadata={'page': 0.0, 'source': 'data_source\\\\Tram_cam_Nguyen_nhan_dau_hieu_doi_tuong_va_cach_dieu_tri.pdf'}, page_content='Nhóm người bị sang chấn tâm lý: họ trải qua biến cố lớn, đột ngột của cuộc đời như: phá sản,'), Document(metadata={'chunk_id': 6.0, 'source': 'Trầm cảm sau sinh: Nguyên nhân, dấu hiệu, phòng ngừa và điều trị'}, page_content='Sức khỏe giảm sút: Những phụ nữ sau sinh có thể trạng yếu, bị đau trong quá trình sinh nở thường tác động tâm trạng phụ nữ. Cơn đau kéo dài, cộng với việc chăm con mới sinh vất vả nảy sinh tâm lý bực bội, cáu gắt, gia tăng cảm giác chán ghét bản thân và cả em bé.'), Document(metadata={'chunk_id': 6.0, 'source': 'Trầm cảm sau sinh: Nguyên nhân, dấu hiệu, phòng ngừa và điều trị'}, page_content='Sức khỏe giảm sút: Những phụ nữ sau sinh có thể trạng yếu, bị đau trong quá trình sinh nở thường tác động tâm trạng phụ nữ. Cơn đau kéo dài, cộng với việc chăm con mới sinh vất vả nảy sinh tâm lý bực bội, cáu gắt, gia tăng cảm giác chán ghét bản thân và cả em bé.')]}\n",
      "Time: 15.884166479110718\n",
      "{'chat_history': [('user', 'Đau đầu, mệt mỏi, suy nghĩ tiêu cực sau sinh là bị bệnh gì?'), ('assistant', 'Các triệu chứng bạn mô tả (đau đầu, mệt mỏi, suy nghĩ tiêu cực) có thể là dấu hiệu của  **trầm cảm sau sinh**. \\n\\nTrầm cảm sau sinh là một loại rối loạn tâm thần ảnh hưởng đến phụ nữ sau khi sinh con. Nó có thể khiến bạn cảm thấy buồn bã, tuyệt vọng, mệt mỏi và khó tập trung. \\n\\n\\nBạn nên **nên nói chuyện với bác sĩ** để được chẩn đoán chính xác và nhận được lời khuyên phù hợp. \\n')], 'question': 'Hiện tại tôi không có thời gian đi bác sĩ, con tôi cứ khóc hoài, có cách nào để cho nó ngủ ngoan không ?', 'answer': 'Có nhiều cách để giúp trẻ sơ sinh ngủ ngoan hơn, ví dụ như:\\n\\n* **Tạo một môi trường ngủ an toàn và thoải mái:** Bé cần một phòng ngủ yên tĩnh, tối và mát mẻ. \\n* **Thế nào là giấc ngủ ngon?**: Giấc ngủ ngon của trẻ sơ sinh thường liên quan đến việc bé được bú đầy đủ, ru đúng cách, hoặc có thể sử dụng nhạc nhẹ nhàng để giúp bé thư giãn.  \\n* **Xây dựng thói quen:** Có một lịch trình hàng ngày nhất quán về ăn, chơi và ngủ sẽ giúp bé hình thành thói quen tốt. \\n\\nNếu bạn đang gặp khó khăn trong việc giúp bé ngủ ngoan hơn, hãy tham khảo ý kiến bác sĩ nhi khoa.\\n\\n\\n', 'source_documents': [Document(metadata={'page': 2.0, 'source': 'data_source\\\\5_nguyen_nhan_gay_tram_cam_sau_sinh__nhan_biet_som_de_dieu_tri_kip_thoi.pdf'}, page_content='với việc sẽ có em bé. Ngoài ra, khi bé có vấn đề về sức khỏe hoặc phải điều trị dài ngày trong bệnh viện, người mẹ có thể trải qua những cảm xúc như buồn, giận, có lỗi. Đây là những cảm xúc làm ảnh hưởng đến tự tin và gây áp lực lên người mẹ.Mệt mỏi: Rất nhiều phụ nữ cảm thấy vô cùng mệt mỏi sau khi sinh, họ phải mất hàng tuần trời để sức khỏe và năng lượng hồi phục trở lại. Ở những sản phụ sinh con theo phương pháp mổ lấy thai, thời gian hồi phục có thể còn'), Document(metadata={'page': 3.0, 'source': 'data_source\\\\tram_cam_sau_sinh_nguyen_nhan_dau_hieu_phong_ngua_dieu_tri.pdf'}, page_content='có th ể kê đơn thu ốc phòng ng ừa trầm cảm sau sinh ngay sau khi em bé chào đời. Phòng ng ừa trầm cảm sau sinh Hội chứng này có th ể xảy ra v ới bất kỳ bà m ẹ nào, tuy nhiên ngư ời mẹ có tiền sử từng m ắc bệnh tâm lý s ẽ có nguy cơ m ắc trầm cảm sau sinh cao. Do đó, trư ớc khi có k ế hoạch sinh con, ph ụ nữ cần khám s ức khỏe tiền sản, còn ph ụ nữ từng có tiền sử mắc các b ệnh tâm lý c ần báo v ới bác sĩ theo dõi. Bác sĩ s ẽ có kế hoạch'), Document(metadata={'page': 4.0, 'source': 'data_source\\\\Co_the_phong_ngua_tram_cam_sau_sinh.pdf'}, page_content='vào tình hình hồi phục của chị emNếu gia đình bạn có điều kiện thì có thể tham khảo dịch vụ giúp việc theo giờ để đỡ đần các công việc nhà, giúp các bà mẹ có nhiều thời gian nghỉ ngơi, chăm sóc cho bản thân hơn.Tâm sự với con ngay từ khi còn trong bụng không chỉ giúp cho tình cảm gắn bó hơn mà còn làm cho bạn cảm thấy thư giãn.Người chồng là người quan trọng nhất trong vấn đề phòng trầm cảm sau sinh. Chồng cần gần gũi và chia sẻ những tâm tư và lo'), Document(metadata={'page': 0.0, 'source': 'data_source\\\\Cach_chua_em_be_khoc_dem_nhu_the_nao.pdf'}, page_content='viêm dạ dày, trào ngược thực quản,...Trẻ đói hay quá no: trẻ sơ sinh có xu hướng muốn bú liên tục và thời gian của các cữ ăn cũng rất ngắn, trẻ 3 tháng tuổi thường bú theo cữ mỗi 2-4 giờ, việc không được bú đầy đủ khiến bé đói cũng là một trong những nguyên nhân khiến trẻ khó ngủ, quấy khóc. Ngược lại, nếu các ba mẹ cho bé bú quá nhiều, khiến bé bị đầy hơi gây khó chịu, bé sẽ không thể ngủ và thể hiện sự khó chịu qua tiếng khóc.Trẻ bị mệt do hoạt động'), Document(metadata={'chunk_id': 29.0, 'source': 'Trầm cảm sau sinh: Nguyên nhân, dấu hiệu, phòng ngừa và điều trị'}, page_content='Phòng ngừa trầm cảm sau sinh Hội chứng này có thể xảy ra với bất kỳ bà mẹ nào, tuy nhiên người mẹ có tiền sử từng mắc bệnh tâm lý sẽ có nguy cơ mắc trầm cảm sau sinh cao. Do đó, trước khi có kế hoạch sinh con, phụ nữ cần khám sức khỏe tiền sản, còn phụ nữ từng có tiền sử mắc các bệnh tâm lý cần báo với bác sĩ theo dõi. Bác sĩ sẽ có kế hoạch dự phòng tái phát trầm cảm trong quá trình mang thai, sinh con.')]}\n",
      "Time: 32.046907901763916\n",
      "Average time: 23.965537190437317\n"
     ]
    }
   ],
   "source": [
    "chain, off_rag = build_rag_chain(llm)\n",
    "sum_time = 0\n",
    "n = 0\n",
    "web_search_db = WebSearchDB()\n",
    "while True:\n",
    "    question = input(\"You: \")\n",
    "    if question == \"exit\":\n",
    "        user_questions = off_rag.history_manager.get_user_question()\n",
    "        update_datbase_with_websearch(user_questions, web_search_db)\n",
    "        break\n",
    "    \n",
    "    start = time.time()\n",
    "    response = chain.invoke(off_rag.get_input_data(question))\n",
    "    end = time.time()\n",
    "\n",
    "    sum_time += end - start\n",
    "    n += 1\n",
    "\n",
    "    print(response)\n",
    "    \n",
    "    off_rag.add_history(question, response[\"answer\"])\n",
    "\n",
    "    print(f\"Time: {end - start}\")\n",
    "\n",
    "print(f\"Average time: {sum_time/n}\")"
   ]
  }
 ],
 "metadata": {
  "kernelspec": {
   "display_name": "base",
   "language": "python",
   "name": "python3"
  },
  "language_info": {
   "codemirror_mode": {
    "name": "ipython",
    "version": 3
   },
   "file_extension": ".py",
   "mimetype": "text/x-python",
   "name": "python",
   "nbconvert_exporter": "python",
   "pygments_lexer": "ipython3",
   "version": "3.12.4"
  }
 },
 "nbformat": 4,
 "nbformat_minor": 2
}
