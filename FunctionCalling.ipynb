{
 "cells": [
  {
   "cell_type": "code",
   "execution_count": 14,
   "metadata": {},
   "outputs": [],
   "source": [
    "import instructor\n",
    "from pydantic import BaseModel\n",
    "from datetime import datetime\n",
    "from openai import OpenAI\n",
    "from apscheduler.schedulers.background import BackgroundScheduler\n",
    "import time\n",
    "from zoneinfo import ZoneInfo\n",
    "from tqdm.autonotebook import tqdm"
   ]
  },
  {
   "cell_type": "markdown",
   "metadata": {},
   "source": [
    "### TakeActionIntructor (Function Call with Intructor)"
   ]
  },
  {
   "cell_type": "code",
   "execution_count": 11,
   "metadata": {},
   "outputs": [],
   "source": [
    "class TakeActionIntructor:\n",
    "    def __init__(self) -> None:\n",
    "        llm = OpenAI(\n",
    "            api_key=\"lamacpp\", \n",
    "            base_url=\"http://zep.hcmute.fit/7500/v1\",  \n",
    "        )\n",
    "        self.client = instructor.patch(client=llm)\n",
    "        self.list_keyword = [\"appointment\", \"remind\"]\n",
    "        self.context = {\n",
    "            \"appointment\" : \" (Thời gian tính theo ngày giờ Việt Nam, timezone Asia/Ho_Chi_Minh)\",\n",
    "            \"remind\" : \" (Thời gian tính theo ngày giờ Việt Nam, timezone Asia/Ho_Chi_Minh)\"\n",
    "        }\n",
    "        self.action_class = {\n",
    "            \"appointment\" : self.AppointmentDetail,\n",
    "            \"remind\" : self.RemindDetail\n",
    "        }\n",
    "        \n",
    "    class AppointmentDetail(BaseModel):\n",
    "        appointment_datetime: datetime\n",
    "        appointment_with: str\n",
    "\n",
    "    class RemindDetail(BaseModel):\n",
    "        remind_datetime: datetime \n",
    "        remind_description: str\n",
    "\n",
    "    def check_extract_keyword(self, input_string):\n",
    "        for keyword in self.list_keyword:\n",
    "            if input_string.lower().startswith(keyword):\n",
    "                self.keyword = keyword\n",
    "                return True, input_string[len(self.keyword):].strip()\n",
    "        return False, input_string\n",
    "    \n",
    "    def take_action(self, input_string):\n",
    "        check, s = self.check_extract_keyword(input_string)\n",
    "        if not check:\n",
    "            print(\"Keyword not found\")\n",
    "            return None\n",
    "        \n",
    "        for i in range(5):\n",
    "            action = self.client.chat.completions.create(\n",
    "                model=\"gemma-2-9b-it\",\n",
    "                response_model=self.action_class[self.keyword],\n",
    "                messages=[\n",
    "                    {\"role\": \"user\", \"content\": s + self.context[self.keyword]},\n",
    "                ],\n",
    "            )\n",
    "            if ((isinstance(action, self.AppointmentDetail) and action.appointment_datetime.year >= datetime.now().year) \n",
    "                or (isinstance(action, self.RemindDetail) and action.remind_datetime.year >= datetime.now().year)):\n",
    "                return action\n",
    "        return None"
   ]
  },
  {
   "cell_type": "markdown",
   "metadata": {},
   "source": [
    "### Test"
   ]
  },
  {
   "cell_type": "code",
   "execution_count": 18,
   "metadata": {},
   "outputs": [
    {
     "name": "stdout",
     "output_type": "stream",
     "text": [
      "Appointment:  2024-09-14 15:25:00+07:00 Bác sĩ Khoa\n"
     ]
    }
   ],
   "source": [
    "take_action = TakeActionIntructor()\n",
    "ta = take_action.take_action(\"appointment 15h25 14/9/2024 hẹn với bác sĩ Khoa nhé\")\n",
    "if isinstance(ta, take_action.AppointmentDetail):\n",
    "    print(\"Appointment: \",ta.appointment_datetime, ta.appointment_with)\n",
    "elif isinstance(ta, take_action.RemindDetail):\n",
    "    print(\"Remind: \", ta.remind_datetime, ta.remind_description)\n",
    "else:\n",
    "    print(\"Year not valid\")"
   ]
  },
  {
   "cell_type": "code",
   "execution_count": 16,
   "metadata": {},
   "outputs": [
    {
     "name": "stderr",
     "output_type": "stream",
     "text": [
      "100%|██████████| 100/100 [18:23<00:00, 11.03s/it]"
     ]
    },
    {
     "name": "stdout",
     "output_type": "stream",
     "text": [
      "Số lần trùng khớp: 100\n"
     ]
    },
    {
     "name": "stderr",
     "output_type": "stream",
     "text": [
      "\n"
     ]
    }
   ],
   "source": [
    "take_action = TakeActionIntructor()\n",
    "#take_action.take_action(\"remind 10h 15/10/2024 chúng ta tiếp tục tư vấn nhé\")\n",
    "count_true = 0\n",
    "for i in tqdm(range(100)):\n",
    "    detail = take_action.take_action(\"remind 10h 17/10/2024 chúng ta tiếp tục tư vấn nhé\")\n",
    "    datetime_true = datetime(2024, 10, 17, 10, 0)\n",
    "    if detail.remind_datetime.year == datetime_true.year and detail.remind_datetime.month == datetime_true.month and detail.remind_datetime.day == datetime_true.day and detail.remind_datetime.hour == datetime_true.hour and detail.remind_datetime.minute == datetime_true.minute:\n",
    "        count_true += 1\n",
    "print(f\"Số lần trùng khớp: {count_true}\")"
   ]
  },
  {
   "cell_type": "code",
   "execution_count": 17,
   "metadata": {},
   "outputs": [
    {
     "name": "stderr",
     "output_type": "stream",
     "text": [
      "100%|██████████| 100/100 [22:12<00:00, 13.32s/it]"
     ]
    },
    {
     "name": "stdout",
     "output_type": "stream",
     "text": [
      "Số lần trùng khớp: 100\n"
     ]
    },
    {
     "name": "stderr",
     "output_type": "stream",
     "text": [
      "\n"
     ]
    }
   ],
   "source": [
    "take_action = TakeActionIntructor()\n",
    "#take_action.take_action(\"remind 10h 15/10/2024 chúng ta tiếp tục tư vấn nhé\")\n",
    "count_true = 0\n",
    "for i in tqdm(range(100)):\n",
    "    detail = take_action.take_action(\"appointment Đặt lịch hẹn với bác sĩ Mai Anh Khoa vào lúc 10h ngày 17/09/2024 nhé\")\n",
    "    datetime_true = datetime(2024, 9, 17, 10, 0)\n",
    "    if detail.appointment_datetime.year == datetime_true.year and detail.appointment_datetime.month == datetime_true.month and detail.appointment_datetime.day == datetime_true.day and detail.appointment_datetime.hour == datetime_true.hour and detail.appointment_datetime.minute == datetime_true.minute:\n",
    "        count_true += 1\n",
    "print(f\"Số lần trùng khớp: {count_true}\")"
   ]
  },
  {
   "cell_type": "markdown",
   "metadata": {},
   "source": [
    "### Example With Schedulers"
   ]
  },
  {
   "cell_type": "code",
   "execution_count": 12,
   "metadata": {},
   "outputs": [
    {
     "name": "stdout",
     "output_type": "stream",
     "text": [
      "Remind:  2024-09-15 23:24:00+07:00 Tiếp tục tư vấn\n",
      "Nhắc nhở bạn đã tới giờ Tiếp tục tư vấn\n"
     ]
    },
    {
     "ename": "KeyboardInterrupt",
     "evalue": "",
     "output_type": "error",
     "traceback": [
      "\u001b[1;31m---------------------------------------------------------------------------\u001b[0m",
      "\u001b[1;31mKeyboardInterrupt\u001b[0m                         Traceback (most recent call last)",
      "Cell \u001b[1;32mIn[12], line 27\u001b[0m\n\u001b[0;32m     25\u001b[0m \u001b[38;5;66;03m# Keep the program running\u001b[39;00m\n\u001b[0;32m     26\u001b[0m \u001b[38;5;28;01mwhile\u001b[39;00m \u001b[38;5;28;01mTrue\u001b[39;00m:\n\u001b[1;32m---> 27\u001b[0m     \u001b[43mtime\u001b[49m\u001b[38;5;241;43m.\u001b[39;49m\u001b[43msleep\u001b[49m\u001b[43m(\u001b[49m\u001b[38;5;241;43m1\u001b[39;49m\u001b[43m)\u001b[49m\n",
      "\u001b[1;31mKeyboardInterrupt\u001b[0m: "
     ]
    }
   ],
   "source": [
    "# Create a scheduler\n",
    "scheduler = BackgroundScheduler()\n",
    "\n",
    "# Function to execute\n",
    "def scheduled_appointment(*args):\n",
    "    print(f\"Bạn có lịch hẹn với {args[0]}\")\n",
    "\n",
    "def scheduled_remind(*args):\n",
    "    print(f\"Nhắc nhở bạn đã tới giờ {args[0]}\")\n",
    "\n",
    "take_action = TakeActionIntructor()\n",
    "ta = take_action.take_action(\"remind 23h24 15/09/2024 chúng ta tiếp tục tư vấn nhé\")\n",
    "if isinstance(ta, take_action.AppointmentDetail):\n",
    "    print(\"Appointment: \",ta.appointment_datetime, ta.appointment_with)\n",
    "    ta.appointment_datetime= ta.appointment_datetime.replace(tzinfo=ZoneInfo(\"Asia/Ho_Chi_Minh\"))\n",
    "    scheduler.add_job(scheduled_appointment, 'date', run_date=ta.appointment_datetime, args=[ta.appointment_with])\n",
    "elif isinstance(ta, take_action.RemindDetail):\n",
    "    print(\"Remind: \", ta.remind_datetime, ta.remind_description)\n",
    "    ta.remind_datetime= ta.remind_datetime.replace(tzinfo=ZoneInfo(\"Asia/Ho_Chi_Minh\"))\n",
    "    scheduler.add_job(scheduled_remind, 'date', run_date=ta.remind_datetime, args=[ta.remind_description])\n",
    "\n",
    "# Start the scheduler\n",
    "scheduler.start()\n",
    "\n",
    "# Keep the program running\n",
    "while True:\n",
    "    time.sleep(1)\n"
   ]
  },
  {
   "cell_type": "markdown",
   "metadata": {},
   "source": [
    "### Emotion Classification"
   ]
  },
  {
   "cell_type": "code",
   "execution_count": 13,
   "metadata": {},
   "outputs": [],
   "source": [
    "import instructor\n",
    "from pydantic import BaseModel\n",
    "from openai import OpenAI\n",
    "import enum\n",
    "\n",
    "class EmotionText(str, enum.Enum):\n",
    "    \"\"\"Enumeration for single-label text classification.\"\"\"\n",
    "    TIEU_CUC = \"Cảm xúc tiêu cực\"\n",
    "    TICH_CUC = \"Cảm xúc tích cực\"\n",
    "\n",
    "class Emotion_Classification:\n",
    "    def __init__(self) -> None:\n",
    "        llm = OpenAI(\n",
    "            api_key=\"lamacpp\", \n",
    "            base_url=\"http://zep.hcmute.fit/7500/v1\",  \n",
    "        )\n",
    "        self.client = instructor.patch(client=llm)\n",
    "    \n",
    "    class SingleEmotionPrediction(BaseModel):\n",
    "        \"\"\"\n",
    "        Class for a single emotion class label prediction.\n",
    "        \"\"\"\n",
    "\n",
    "        emotion: EmotionText\n",
    "        \n",
    "    def classify(self, data: str):\n",
    "        return self.client.chat.completions.create(\n",
    "            model=\"gemma-2-9b-it\",\n",
    "            response_model=self.SingleEmotionPrediction,\n",
    "            messages=[\n",
    "                {\n",
    "                    \"role\": \"user\",\n",
    "                    \"content\": f\"Cảm xúc tích cực hay tiêu cực qua đoạn văn bản sau: {data}\",\n",
    "                },\n",
    "            ],\n",
    "        )"
   ]
  },
  {
   "cell_type": "code",
   "execution_count": 14,
   "metadata": {},
   "outputs": [
    {
     "name": "stdout",
     "output_type": "stream",
     "text": [
      "emotion=<EmotionText.TIEU_CUC: 'Cảm xúc tiêu cực'>\n"
     ]
    }
   ],
   "source": [
    "prediction = Emotion_Classification().classify(\"Tôi đang đau đầu, mệt mỏi, căng thẳng quá, hơi quạo\")\n",
    "print(prediction)"
   ]
  },
  {
   "cell_type": "markdown",
   "metadata": {},
   "source": [
    "### Test"
   ]
  },
  {
   "cell_type": "code",
   "execution_count": 15,
   "metadata": {},
   "outputs": [
    {
     "name": "stdout",
     "output_type": "stream",
     "text": [
      "100\n"
     ]
    }
   ],
   "source": [
    "count_true = 0\n",
    "for i in range(100):\n",
    "    prediction = Emotion_Classification().classify(\"Tôi cảm thấy khá tuyệt vọng, muốn buôn xuôi\")\n",
    "    if prediction.emotion == EmotionText.TIEU_CUC:\n",
    "        count_true += 1\n",
    "print(count_true)"
   ]
  },
  {
   "cell_type": "code",
   "execution_count": 10,
   "metadata": {},
   "outputs": [
    {
     "name": "stdout",
     "output_type": "stream",
     "text": [
      "100\n"
     ]
    }
   ],
   "source": [
    "count_true = 0\n",
    "for i in range(100):\n",
    "    prediction = Emotion_Classification().classify(\"Tôi cảm thấy tốt hơn rồi, cảm ơn bạn\")\n",
    "    if prediction.emotion == EmotionText.TICH_CUC:\n",
    "        count_true += 1\n",
    "print(count_true)"
   ]
  }
 ],
 "metadata": {
  "kernelspec": {
   "display_name": "chatbot",
   "language": "python",
   "name": "python3"
  },
  "language_info": {
   "codemirror_mode": {
    "name": "ipython",
    "version": 3
   },
   "file_extension": ".py",
   "mimetype": "text/x-python",
   "name": "python",
   "nbconvert_exporter": "python",
   "pygments_lexer": "ipython3",
   "version": "3.12.4"
  }
 },
 "nbformat": 4,
 "nbformat_minor": 2
}
