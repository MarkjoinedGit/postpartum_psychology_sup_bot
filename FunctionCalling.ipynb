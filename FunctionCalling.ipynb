{
 "cells": [
  {
   "cell_type": "code",
   "execution_count": 2,
   "metadata": {},
   "outputs": [
    {
     "name": "stderr",
     "output_type": "stream",
     "text": [
      "C:\\Users\\Admin\\AppData\\Local\\Temp\\ipykernel_20540\\1655076808.py:8: TqdmWarning: IProgress not found. Please update jupyter and ipywidgets. See https://ipywidgets.readthedocs.io/en/stable/user_install.html\n",
      "  from tqdm.autonotebook import tqdm\n"
     ]
    }
   ],
   "source": [
    "import instructor\n",
    "from pydantic import BaseModel\n",
    "from datetime import datetime, timedelta\n",
    "from openai import OpenAI\n",
    "from apscheduler.schedulers.background import BackgroundScheduler\n",
    "import time\n",
    "from zoneinfo import ZoneInfo\n",
    "from tqdm.autonotebook import tqdm\n",
    "import unicodedata"
   ]
  },
  {
   "cell_type": "markdown",
   "metadata": {},
   "source": [
    "### TakeActionIntructor (Function Call with Intructor)"
   ]
  },
  {
   "cell_type": "code",
   "execution_count": 9,
   "metadata": {},
   "outputs": [],
   "source": [
    "class TakeActionIntructor:\n",
    "    def __init__(self) -> None:\n",
    "        llm = OpenAI(\n",
    "            api_key=\"lamacpp\", \n",
    "            base_url=\"http://zep.hcmute.fit/7500/v1\",  \n",
    "        )\n",
    "        self.client = instructor.patch(client=llm)\n",
    "        self.list_keyword = [\"appointment\", \"remind\"]\n",
    "        self.context = {\n",
    "            \"appointment\" : \" (Thời gian tính theo ngày giờ Việt Nam, timezone Asia/Ho_Chi_Minh)\",\n",
    "            \"remind\" : \" (Thời gian tính theo ngày giờ Việt Nam, timezone Asia/Ho_Chi_Minh)\"\n",
    "        }\n",
    "        self.action_class = {\n",
    "            \"appointment\" : self.AppointmentDetail,\n",
    "            \"remind\" : self.RemindDetail\n",
    "        }\n",
    "        \n",
    "    class AppointmentDetail(BaseModel):\n",
    "        datetime: datetime\n",
    "        appointment_with: str\n",
    "\n",
    "    class RemindDetail(BaseModel):\n",
    "        datetime: datetime \n",
    "        remind_description: str\n",
    "\n",
    "    def check_extract_keyword(self, input_string):\n",
    "        for keyword in self.list_keyword:\n",
    "            if input_string.lower().startswith(keyword):\n",
    "                self.keyword = keyword\n",
    "                return True, input_string[len(self.keyword):].strip()\n",
    "        return False, input_string\n",
    "    \n",
    "    def take_action(self, input_string):\n",
    "        check, s = self.check_extract_keyword(input_string)\n",
    "        if not check:\n",
    "            print(\"Keyword not found\")\n",
    "            return None\n",
    "        \n",
    "        action = self.client.chat.completions.create(\n",
    "            model=\"gemma-2-9b-it\",\n",
    "            response_model=self.action_class[self.keyword],\n",
    "            messages=[\n",
    "                {\"role\": \"user\", \"content\": s + self.context[self.keyword]},\n",
    "            ],\n",
    "        )\n",
    "        s = unicodedata.normalize('NFC', s.lower())\n",
    "        if \"ngày mai\" in s or \"tomorrow\" in s:\n",
    "            action.datetime = datetime(datetime.now().year, datetime.now().month, datetime.now().day, \n",
    "                                                    action.datetime.hour, action.datetime.minute, \n",
    "                                                    0, 0, ZoneInfo(\"Asia/Ho_Chi_Minh\")) + timedelta(days=1)\n",
    "        elif \"hôm nay\" in s or \"today\" in s:\n",
    "            action.datetime = datetime(datetime.now().year, datetime.now().month, datetime.now().day, \n",
    "                                                    action.datetime.hour, action.datetime.minute, \n",
    "                                                    0, 0, ZoneInfo(\"Asia/Ho_Chi_Minh\"))\n",
    "        elif((action.datetime.month < datetime.now().month) or \n",
    "            (action.datetime.month == datetime.now().month and action.datetime.day < datetime.now().day)):\n",
    "            action.datetime = action.datetime.replace(year=datetime.now().year + 1)\n",
    "        elif(action.datetime.month >= datetime.now().month and action.datetime.day >= datetime.now().day):\n",
    "            action.datetime = action.datetime.replace(year=datetime.now().year)\n",
    "        \n",
    "        return action"
   ]
  },
  {
   "cell_type": "markdown",
   "metadata": {},
   "source": [
    "### Test"
   ]
  },
  {
   "cell_type": "code",
   "execution_count": 11,
   "metadata": {},
   "outputs": [
    {
     "name": "stdout",
     "output_type": "stream",
     "text": [
      "Appointment:  2024-09-17 15:25:00+07:00 Doctor Khoa\n"
     ]
    }
   ],
   "source": [
    "take_action = TakeActionIntructor()\n",
    "ta = take_action.take_action(\"appointment 15h25 hôm nay hẹn với bác sĩ Khoa nhé\")\n",
    "if isinstance(ta, take_action.AppointmentDetail):\n",
    "    print(\"Appointment: \",ta.datetime, ta.appointment_with)\n",
    "elif isinstance(ta, take_action.RemindDetail):\n",
    "    print(\"Remind: \", ta.datetime, ta.remind_description)\n",
    "else:\n",
    "    print(\"Not found\")"
   ]
  },
  {
   "cell_type": "code",
   "execution_count": 45,
   "metadata": {},
   "outputs": [
    {
     "name": "stderr",
     "output_type": "stream",
     "text": [
      "100%|██████████| 100/100 [15:35<00:00,  9.36s/it]"
     ]
    },
    {
     "name": "stdout",
     "output_type": "stream",
     "text": [
      "Số lần trùng khớp: 100\n"
     ]
    },
    {
     "name": "stderr",
     "output_type": "stream",
     "text": [
      "\n"
     ]
    }
   ],
   "source": [
    "take_action = TakeActionIntructor()\n",
    "#take_action.take_action(\"remind 10h 15/10/2024 chúng ta tiếp tục tư vấn nhé\")\n",
    "count_true = 0\n",
    "for i in tqdm(range(100)):\n",
    "    detail = take_action.take_action(\"remind 10h 17/01 chúng ta tiếp tục tư vấn nhé\")\n",
    "    datetime_true = datetime(2025, 1, 17, 10, 0)\n",
    "    if detail.datetime.year == datetime_true.year and detail.datetime.month == datetime_true.month and detail.datetime.day == datetime_true.day and detail.datetime.hour == datetime_true.hour and detail.datetime.minute == datetime_true.minute:\n",
    "        count_true += 1\n",
    "print(f\"Số lần trùng khớp: {count_true}\")"
   ]
  },
  {
   "cell_type": "code",
   "execution_count": 17,
   "metadata": {},
   "outputs": [
    {
     "name": "stderr",
     "output_type": "stream",
     "text": [
      "100%|██████████| 100/100 [22:12<00:00, 13.32s/it]"
     ]
    },
    {
     "name": "stdout",
     "output_type": "stream",
     "text": [
      "Số lần trùng khớp: 100\n"
     ]
    },
    {
     "name": "stderr",
     "output_type": "stream",
     "text": [
      "\n"
     ]
    }
   ],
   "source": [
    "take_action = TakeActionIntructor()\n",
    "#take_action.take_action(\"remind 10h 15/10/2024 chúng ta tiếp tục tư vấn nhé\")\n",
    "count_true = 0\n",
    "for i in tqdm(range(100)):\n",
    "    detail = take_action.take_action(\"appointment Đặt lịch hẹn với bác sĩ Mai Anh Khoa vào lúc 10h ngày 17/09/2024 nhé\")\n",
    "    datetime_true = datetime(2024, 9, 17, 10, 0)\n",
    "    if detail.datetime.year == datetime_true.year and detail.datetime.month == datetime_true.month and detail.datetime.day == datetime_true.day and detail.datetime.hour == datetime_true.hour and detail.datetime.minute == datetime_true.minute:\n",
    "        count_true += 1\n",
    "print(f\"Số lần trùng khớp: {count_true}\")"
   ]
  },
  {
   "cell_type": "markdown",
   "metadata": {},
   "source": [
    "### Example With Schedulers"
   ]
  },
  {
   "cell_type": "code",
   "execution_count": 8,
   "metadata": {},
   "outputs": [
    {
     "name": "stdout",
     "output_type": "stream",
     "text": [
      "Remind:  2024-09-17 17:31:00+07:00 Tiếp tục tư vấn\n",
      "Job ID: 06b7b9043c2e49ea8da97b0031ba3b9b, Next Run Time: 2024-09-17 17:31:00+07:00\n",
      "Remind:  2024-09-17 17:33:00+07:00 Tiếp tục tư vấn\n",
      "Job ID: 06b7b9043c2e49ea8da97b0031ba3b9b, Next Run Time: 2024-09-17 17:31:00+07:00\n",
      "Job ID: 654aa84005634d5f8283e672711b0177, Next Run Time: 2024-09-17 17:33:00+07:00\n",
      "Nhắc nhở bạn đã tới giờ Tiếp tục tư vấn\n",
      "Nhắc nhở bạn đã tới giờ Tiếp tục tư vấn\n"
     ]
    }
   ],
   "source": [
    "# Create a scheduler\n",
    "scheduler = BackgroundScheduler()\n",
    "\n",
    "# Function to execute\n",
    "def scheduled_appointment(*args):\n",
    "    print(f\"Bạn có lịch hẹn với {args[0]}\")\n",
    "\n",
    "def scheduled_remind(*args):\n",
    "    print(f\"Nhắc nhở bạn đã tới giờ {args[0]}\")\n",
    "\n",
    "scheduler.start()\n",
    "# Keep the program running\n",
    "while True:\n",
    "    check = input()\n",
    "    if check == \"exit\":\n",
    "        scheduler.shutdown()\n",
    "        break\n",
    "    elif check == \"jobs\":\n",
    "        jobs = scheduler.get_jobs()\n",
    "        for job in jobs:\n",
    "            print(f\"Job ID: {job.id}, Next Run Time: {job.next_run_time}\")\n",
    "    elif check == \"remove\":\n",
    "        jobs = scheduler.get_jobs()\n",
    "        input_id = input(f\"Remove job: \")\n",
    "        scheduler.remove_job(input_id)\n",
    "    elif check == \"add\":\n",
    "        scheduler.pause()\n",
    "        query = input(\"Input query: \")\n",
    "        take_action = TakeActionIntructor()\n",
    "        ta = take_action.take_action(query)\n",
    "        if isinstance(ta, take_action.AppointmentDetail):\n",
    "            print(\"Appointment: \",ta.datetime, ta.appointment_with)\n",
    "            ta.datetime= ta.datetime.replace(tzinfo=ZoneInfo(\"Asia/Ho_Chi_Minh\"))\n",
    "            scheduler.add_job(scheduled_appointment, 'date', run_date=ta.datetime, args=[ta.appointment_with])\n",
    "        elif isinstance(ta, take_action.RemindDetail):\n",
    "            print(\"Remind: \", ta.datetime, ta.remind_description)\n",
    "            ta.datetime= ta.datetime.replace(tzinfo=ZoneInfo(\"Asia/Ho_Chi_Minh\"))\n",
    "            scheduler.add_job(scheduled_remind, 'date', run_date=ta.datetime, args=[ta.remind_description])\n",
    "        scheduler.resume()\n",
    "\n",
    "    time.sleep(1)\n"
   ]
  },
  {
   "cell_type": "markdown",
   "metadata": {},
   "source": [
    "### Summary of Questions"
   ]
  },
  {
   "cell_type": "code",
   "execution_count": 88,
   "metadata": {},
   "outputs": [],
   "source": [
    "import enum\n",
    "class QuestionType(str, enum.Enum):\n",
    "    \"\"\"Enumeration for single-label text classification.\"\"\"\n",
    "    issues = \"Vấn đề phụ nữ sau sinh (tâm lý, sinh lý, gia đình, ...)\"\n",
    "    orther = \"Vấn đề khác\"\n",
    "    \n",
    "class QuestionInstructor:\n",
    "    def __init__(self) -> None:\n",
    "        llm = OpenAI(\n",
    "            api_key=\"lamacpp\", \n",
    "            base_url=\"http://zep.hcmute.fit/7500/v1\",  \n",
    "        )\n",
    "        self.client = instructor.patch(client=llm)\n",
    "\n",
    "    class SummaryOfQuestion(BaseModel):\n",
    "        question: str\n",
    "        question_type: QuestionType\n",
    "\n",
    "    def take_question(self, input_string):\n",
    "        action = self.client.chat.completions.create(\n",
    "            model=\"gemma-2-9b-it\",\n",
    "            response_model=self.SummaryOfQuestion,\n",
    "            messages=[\n",
    "                {\"role\": \"user\", \"content\": f\"Tóm tắt câu hỏi bên dưới để phục vụ cho tra cứu google và kiểm tra câu hỏi đó có phải là vấn đề của phụ nữ sau sinh (tâm lý, sinh lý, gia đình, ...) hay không : \\\n",
    "                                    \\nCâu hỏi: {input_string}\\\n",
    "                                    \\n(Sử dụng ngôn ngữ tiếng Việt)\"},\n",
    "            ],\n",
    "        )\n",
    "        return action"
   ]
  },
  {
   "cell_type": "code",
   "execution_count": 87,
   "metadata": {},
   "outputs": [
    {
     "name": "stdout",
     "output_type": "stream",
     "text": [
      "question='Vợ (sau sinh 1 tháng) thay đổi tính cách: ít nói,  khép kín, cáu kỉnh, dễ buồn ngủ. Có bị trầm cảm sau sinh không?' question_type=<QuestionType.issues: 'Vấn đề phụ nữ sau sinh (tâm lý, sinh lý, gia đình, ...)'>\n"
     ]
    }
   ],
   "source": [
    "data = \"Vợ tôi mới sinh con được hơn 1 tháng, gần đây cô ấy bắt đầu có những biển hiện rất lạ như ít nói, không muốn tiếp xúc với mọi người, mặc dù trước đây rất hay trò chuyện vui vẻ với mọi người. Không những vậy cô ấy còn hay cáu kỉnh, dễ tức giận, và rất hay buồn ngủ vào ban ngày. Như vậy có phải vợ tôi bị trầm cảm sau sinh không? Tôi phải làm như thế nào?\"\n",
    "\n",
    "action = QuestionInstructor().take_question(data)\n",
    "print(action)"
   ]
  },
  {
   "cell_type": "markdown",
   "metadata": {},
   "source": [
    "#### Test"
   ]
  },
  {
   "cell_type": "code",
   "execution_count": 82,
   "metadata": {},
   "outputs": [],
   "source": [
    "import random\n",
    "\n",
    "# Tạo dữ liệu mẫu cho nhãn 'issues'\n",
    "issues_samples = [\n",
    "    \"Tôi cảm thấy lo lắng sau khi sinh con, không biết phải làm sao.\",\n",
    "    \"Mối quan hệ với chồng tôi trở nên khó khăn sau khi sinh con.\",\n",
    "    \"Tôi bị mất ngủ sau khi sinh và điều này ảnh hưởng rất nhiều đến tâm lý của tôi.\",\n",
    "    \"Cảm giác mệt mỏi, đau nhức sau khi sinh là điều tôi không ngờ tới.\",\n",
    "    \"Việc chăm sóc con và gia đình sau khi sinh làm tôi cảm thấy bị căng thẳng.\"\n",
    "]\n",
    "\n",
    "# Tạo dữ liệu mẫu cho nhãn 'other'\n",
    "other_samples = [\n",
    "    \"Tôi thích đi du lịch và khám phá những nơi mới.\",\n",
    "    \"Thời tiết hôm nay thật đẹp, rất thích hợp để đi dạo.\",\n",
    "    \"Tôi vừa hoàn thành một cuốn sách rất hay về phát triển bản thân.\",\n",
    "    \"Năm nay tôi có kế hoạch học thêm một ngoại ngữ mới.\",\n",
    "    \"Tôi thích xem phim vào cuối tuần để thư giãn.\"\n",
    "]\n",
    "\n",
    "# Sinh dữ liệu ngẫu nhiên\n",
    "def generate_classification_data(num_samples=10):\n",
    "    data = []\n",
    "    for _ in range(num_samples):\n",
    "        if random.random() > 0.5:\n",
    "            label = \"issues\"\n",
    "            text = random.choice(issues_samples)\n",
    "            data.append({\"question\": text, \"type\": QuestionType.issues})\n",
    "        else:\n",
    "            text = random.choice(other_samples)\n",
    "            data.append({\"question\": text, \"type\": QuestionType.orther})\n",
    "    \n",
    "    return data\n",
    "\n",
    "# Sử dụng hàm sinh dữ liệu\n",
    "sample_data = generate_classification_data(50)"
   ]
  },
  {
   "cell_type": "code",
   "execution_count": 83,
   "metadata": {},
   "outputs": [
    {
     "name": "stdout",
     "output_type": "stream",
     "text": [
      "Số lần trùng khớp: 46\n"
     ]
    }
   ],
   "source": [
    "count_true = 0\n",
    "for question in sample_data:\n",
    "    action = QuestionInstructor().take_question(question.get(\"question\"))\n",
    "\n",
    "    if action.question_type == question.get(\"type\"):\n",
    "        count_true += 1\n",
    "print(f\"Số lần trùng khớp: {count_true}\")\n",
    "    "
   ]
  },
  {
   "cell_type": "markdown",
   "metadata": {},
   "source": [
    "### Emotion Classification"
   ]
  },
  {
   "cell_type": "code",
   "execution_count": 13,
   "metadata": {},
   "outputs": [],
   "source": [
    "import instructor\n",
    "from pydantic import BaseModel\n",
    "from openai import OpenAI\n",
    "import enum\n",
    "\n",
    "class EmotionText(str, enum.Enum):\n",
    "    \"\"\"Enumeration for single-label text classification.\"\"\"\n",
    "    TIEU_CUC = \"Cảm xúc tiêu cực\"\n",
    "    TICH_CUC = \"Cảm xúc tích cực\"\n",
    "\n",
    "class Emotion_Classification:\n",
    "    def __init__(self) -> None:\n",
    "        llm = OpenAI(\n",
    "            api_key=\"lamacpp\", \n",
    "            base_url=\"http://zep.hcmute.fit/7500/v1\",  \n",
    "        )\n",
    "        self.client = instructor.patch(client=llm)\n",
    "    \n",
    "    class SingleEmotionPrediction(BaseModel):\n",
    "        \"\"\"\n",
    "        Class for a single emotion class label prediction.\n",
    "        \"\"\"\n",
    "\n",
    "        emotion: EmotionText\n",
    "        \n",
    "    def classify(self, data: str):\n",
    "        return self.client.chat.completions.create(\n",
    "            model=\"gemma-2-9b-it\",\n",
    "            response_model=self.SingleEmotionPrediction,\n",
    "            messages=[\n",
    "                {\n",
    "                    \"role\": \"user\",\n",
    "                    \"content\": f\"Cảm xúc tích cực hay tiêu cực qua đoạn văn bản sau: {data}\",\n",
    "                },\n",
    "            ],\n",
    "        )"
   ]
  },
  {
   "cell_type": "code",
   "execution_count": 14,
   "metadata": {},
   "outputs": [
    {
     "name": "stdout",
     "output_type": "stream",
     "text": [
      "emotion=<EmotionText.TIEU_CUC: 'Cảm xúc tiêu cực'>\n"
     ]
    }
   ],
   "source": [
    "prediction = Emotion_Classification().classify(\"Tôi đang đau đầu, mệt mỏi, căng thẳng quá, hơi quạo\")\n",
    "print(prediction)"
   ]
  },
  {
   "cell_type": "markdown",
   "metadata": {},
   "source": [
    "### Test"
   ]
  },
  {
   "cell_type": "code",
   "execution_count": 15,
   "metadata": {},
   "outputs": [
    {
     "name": "stdout",
     "output_type": "stream",
     "text": [
      "100\n"
     ]
    }
   ],
   "source": [
    "count_true = 0\n",
    "for i in range(100):\n",
    "    prediction = Emotion_Classification().classify(\"Tôi cảm thấy khá tuyệt vọng, muốn buôn xuôi\")\n",
    "    if prediction.emotion == EmotionText.TIEU_CUC:\n",
    "        count_true += 1\n",
    "print(count_true)"
   ]
  },
  {
   "cell_type": "code",
   "execution_count": 10,
   "metadata": {},
   "outputs": [
    {
     "name": "stdout",
     "output_type": "stream",
     "text": [
      "100\n"
     ]
    }
   ],
   "source": [
    "count_true = 0\n",
    "for i in range(100):\n",
    "    prediction = Emotion_Classification().classify(\"Tôi cảm thấy tốt hơn rồi, cảm ơn bạn\")\n",
    "    if prediction.emotion == EmotionText.TICH_CUC:\n",
    "        count_true += 1\n",
    "print(count_true)"
   ]
  }
 ],
 "metadata": {
  "kernelspec": {
   "display_name": "chatbot",
   "language": "python",
   "name": "python3"
  },
  "language_info": {
   "codemirror_mode": {
    "name": "ipython",
    "version": 3
   },
   "file_extension": ".py",
   "mimetype": "text/x-python",
   "name": "python",
   "nbconvert_exporter": "python",
   "pygments_lexer": "ipython3",
   "version": "3.12.4"
  }
 },
 "nbformat": 4,
 "nbformat_minor": 2
}
